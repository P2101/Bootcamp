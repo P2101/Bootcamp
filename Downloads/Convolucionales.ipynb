{
 "cells": [
  {
   "cell_type": "code",
   "execution_count": 1,
   "id": "a19b5e41",
   "metadata": {},
   "outputs": [],
   "source": [
    "import pandas as pd"
   ]
  },
  {
   "cell_type": "code",
   "execution_count": 22,
   "id": "4365522d",
   "metadata": {},
   "outputs": [
    {
     "name": "stdout",
     "output_type": "stream",
     "text": [
      "                                   imagen  carpeta\n",
      "0     spiral/training\\healthy\\V01HE02.png        0\n",
      "1     spiral/training\\healthy\\V01HE03.png        0\n",
      "2     spiral/training\\healthy\\V02HE02.png        0\n",
      "3     spiral/training\\healthy\\V02HE03.png        0\n",
      "4      spiral/training\\healthy\\V03HE2.png        0\n",
      "..                                    ...      ...\n",
      "67  spiral/training\\parkinson\\V13PE03.png        1\n",
      "68  spiral/training\\parkinson\\V14PE01.png        1\n",
      "69  spiral/training\\parkinson\\V14PE02.png        1\n",
      "70  spiral/training\\parkinson\\V15PE02.png        1\n",
      "71  spiral/training\\parkinson\\V15PE03.png        1\n",
      "\n",
      "[72 rows x 2 columns]\n"
     ]
    }
   ],
   "source": [
    "from PIL import Image\n",
    "import pandas as pd\n",
    "import os\n",
    "\n",
    "carpeta = 'spiral/training'\n",
    "\n",
    "# Lista para almacenar las rutas de los archivos\n",
    "rutas_archivos = []\n",
    "\n",
    "# Obtener la lista de archivos en la carpeta\n",
    "for root, dirs, files in os.walk(carpeta):\n",
    "    for file in files:\n",
    "        # Añadir la ruta completa del archivo a la lista\n",
    "        ruta_completa = os.path.join(root, file)\n",
    "        rutas_archivos.append(ruta_completa)\n",
    "\n",
    "# Crear un DataFrame de ejemplo con rutas de imágenes\n",
    "data = {'imagen': rutas_archivos}\n",
    "df = pd.DataFrame(data)\n",
    "\n",
    "# Función para obtener la carpeta de una ruta\n",
    "def obtener_carpeta(ruta):\n",
    "    return os.path.dirname(ruta)\n",
    "\n",
    "# Función para obtener el nombre de la imagen sin la extensión\n",
    "def obtener_nombre_imagen(ruta):\n",
    "    return os.path.splitext(os.path.basename(ruta))[0]\n",
    "\n",
    "# Agregar una columna 'carpeta' al DataFrame\n",
    "df['carpeta'] = df['imagen'].apply(obtener_carpeta)\n",
    "\n",
    "df['carpeta'] = df['carpeta'].map({'spiral/training\\healthy': 0, 'spiral/training\\parkinson': 1})\n",
    "# Mostrar el DataFrame resultante\n",
    "print(df)"
   ]
  },
  {
   "cell_type": "code",
   "execution_count": 23,
   "id": "9575e767",
   "metadata": {},
   "outputs": [],
   "source": [
    "X = df['imagen']\n",
    "y = df['carpeta']"
   ]
  },
  {
   "cell_type": "code",
   "execution_count": 24,
   "id": "bbfea110",
   "metadata": {},
   "outputs": [
    {
     "name": "stdout",
     "output_type": "stream",
     "text": [
      "spiral/training\\healthy\\V01HE02.png\n"
     ]
    }
   ],
   "source": [
    "print(X[0])"
   ]
  },
  {
   "cell_type": "code",
   "execution_count": null,
   "id": "7052d9d2",
   "metadata": {},
   "outputs": [],
   "source": []
  }
 ],
 "metadata": {
  "kernelspec": {
   "display_name": "Python 3 (ipykernel)",
   "language": "python",
   "name": "python3"
  },
  "language_info": {
   "codemirror_mode": {
    "name": "ipython",
    "version": 3
   },
   "file_extension": ".py",
   "mimetype": "text/x-python",
   "name": "python",
   "nbconvert_exporter": "python",
   "pygments_lexer": "ipython3",
   "version": "3.11.4"
  }
 },
 "nbformat": 4,
 "nbformat_minor": 5
}
