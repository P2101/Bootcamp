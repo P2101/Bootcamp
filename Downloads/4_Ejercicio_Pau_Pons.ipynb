{
 "cells": [
  {
   "cell_type": "code",
   "execution_count": 1,
   "id": "0efe8de4",
   "metadata": {},
   "outputs": [],
   "source": [
    "# EJERCICIO 1"
   ]
  },
  {
   "cell_type": "code",
   "execution_count": 17,
   "id": "2916b389",
   "metadata": {},
   "outputs": [
    {
     "name": "stdout",
     "output_type": "stream",
     "text": [
      "Introduce tu nombre: pefe\n",
      "pefe\n",
      "pefe\n",
      "pefe\n",
      "pefe\n",
      "pefe\n",
      "pefe\n",
      "pefe\n",
      "pefe\n",
      "pefe\n",
      "pefe\n"
     ]
    }
   ],
   "source": [
    "name = input('Introduce tu nombre: ')\n",
    "for i in range(10):\n",
    "    print(name)"
   ]
  },
  {
   "cell_type": "code",
   "execution_count": 2,
   "id": "1098ee01",
   "metadata": {},
   "outputs": [],
   "source": [
    "# EJERCICIO 2"
   ]
  },
  {
   "cell_type": "code",
   "execution_count": 20,
   "id": "b850cf22",
   "metadata": {},
   "outputs": [
    {
     "name": "stdout",
     "output_type": "stream",
     "text": [
      "Introduce tu edad: 5\n",
      "1\n",
      "2\n",
      "3\n",
      "4\n",
      "5\n"
     ]
    }
   ],
   "source": [
    "age = int(input('Introduce tu edad: '))\n",
    "for i in range(1, age):\n",
    "    print(i)"
   ]
  },
  {
   "cell_type": "code",
   "execution_count": 3,
   "id": "a8becc69",
   "metadata": {},
   "outputs": [],
   "source": [
    "# EJERCICIO 3"
   ]
  },
  {
   "cell_type": "code",
   "execution_count": 78,
   "id": "8a94734e",
   "metadata": {},
   "outputs": [
    {
     "name": "stdout",
     "output_type": "stream",
     "text": [
      "Introduce un número: 9\n",
      "1,3,5,7,9"
     ]
    }
   ],
   "source": [
    "num = int(input('Introduce un número: '))\n",
    "\n",
    "for i in range (1,(num+1), 2):\n",
    "    if i == 1:\n",
    "        print(f'{i}',end='')\n",
    "    else:\n",
    "         print(f',{i}', end='')"
   ]
  },
  {
   "cell_type": "code",
   "execution_count": 4,
   "id": "624f7359",
   "metadata": {},
   "outputs": [],
   "source": [
    "# EJERCICIO 4"
   ]
  },
  {
   "cell_type": "code",
   "execution_count": 81,
   "id": "ac28bf3b",
   "metadata": {},
   "outputs": [
    {
     "name": "stdout",
     "output_type": "stream",
     "text": [
      "Introduce un número: 9\n",
      "9,8,7,6,5,4,3,2,1,0"
     ]
    }
   ],
   "source": [
    "num = int(input('Introduce un número: '))\n",
    "for i in range(num, -1, -1):\n",
    "    if i == num:\n",
    "        print(i, end='')\n",
    "    else:\n",
    "        print(f',{i}', end='')"
   ]
  },
  {
   "cell_type": "code",
   "execution_count": 5,
   "id": "1816a803",
   "metadata": {},
   "outputs": [],
   "source": [
    "# EJERCICIO 5"
   ]
  },
  {
   "cell_type": "code",
   "execution_count": 94,
   "id": "4b670acc",
   "metadata": {},
   "outputs": [
    {
     "name": "stdout",
     "output_type": "stream",
     "text": [
      "Introduce cantidad a invertir: 100\n",
      "Introduce tipo de interes: 5\n",
      "Introduce cantidad de años: 5\n",
      "En el año 1 ha obtenido 5.00 €\n",
      "En el año 2 ha obtenido 5.25 €\n",
      "En el año 3 ha obtenido 5.51 €\n",
      "En el año 4 ha obtenido 5.79 €\n",
      "En el año 5 ha obtenido 6.08 €\n"
     ]
    }
   ],
   "source": [
    "quantity = float(input('Introduce cantidad a invertir: '))\n",
    "interest = float(input('Introduce tipo de interes: '))\n",
    "years = int(input('Introduce cantidad de años: '))\n",
    "\n",
    "for i in range(years):\n",
    "    benefit = interest * quantity/100\n",
    "    quantity = quantity + benefit\n",
    "    print(f'En el año {i + 1} se ha obtenido {benefit:.2f}€ de beneficio')"
   ]
  },
  {
   "cell_type": "code",
   "execution_count": 6,
   "id": "3a2826a0",
   "metadata": {},
   "outputs": [],
   "source": [
    "# EJERCICIO 6"
   ]
  },
  {
   "cell_type": "code",
   "execution_count": 36,
   "id": "5ac038ff",
   "metadata": {},
   "outputs": [
    {
     "name": "stdout",
     "output_type": "stream",
     "text": [
      "Introduce un número: 6\n",
      "*\n",
      "**\n",
      "***\n",
      "****\n",
      "*****\n",
      "******\n"
     ]
    }
   ],
   "source": [
    "num = int(input('Introduce un número: '))\n",
    "aster ='*'\n",
    "for i in range(num):\n",
    "    print(aster)\n",
    "    aster += '*'"
   ]
  },
  {
   "cell_type": "code",
   "execution_count": 7,
   "id": "96f4d750",
   "metadata": {},
   "outputs": [],
   "source": [
    "# EJERCICIO 7"
   ]
  },
  {
   "cell_type": "code",
   "execution_count": 2,
   "id": "5677c4b2",
   "metadata": {},
   "outputs": [
    {
     "name": "stdout",
     "output_type": "stream",
     "text": [
      "1 * 1 = 1\n",
      "1 * 2 = 2\n",
      "1 * 3 = 3\n",
      "1 * 4 = 4\n",
      "1 * 5 = 5\n",
      "1 * 6 = 6\n",
      "1 * 7 = 7\n",
      "1 * 8 = 8\n",
      "1 * 9 = 9\n",
      "1 * 10 = 10\n",
      "2 * 1 = 2\n",
      "2 * 2 = 4\n",
      "2 * 3 = 6\n",
      "2 * 4 = 8\n",
      "2 * 5 = 10\n",
      "2 * 6 = 12\n",
      "2 * 7 = 14\n",
      "2 * 8 = 16\n",
      "2 * 9 = 18\n",
      "2 * 10 = 20\n",
      "3 * 1 = 3\n",
      "3 * 2 = 6\n",
      "3 * 3 = 9\n",
      "3 * 4 = 12\n",
      "3 * 5 = 15\n",
      "3 * 6 = 18\n",
      "3 * 7 = 21\n",
      "3 * 8 = 24\n",
      "3 * 9 = 27\n",
      "3 * 10 = 30\n",
      "4 * 1 = 4\n",
      "4 * 2 = 8\n",
      "4 * 3 = 12\n",
      "4 * 4 = 16\n",
      "4 * 5 = 20\n",
      "4 * 6 = 24\n",
      "4 * 7 = 28\n",
      "4 * 8 = 32\n",
      "4 * 9 = 36\n",
      "4 * 10 = 40\n",
      "5 * 1 = 5\n",
      "5 * 2 = 10\n",
      "5 * 3 = 15\n",
      "5 * 4 = 20\n",
      "5 * 5 = 25\n",
      "5 * 6 = 30\n",
      "5 * 7 = 35\n",
      "5 * 8 = 40\n",
      "5 * 9 = 45\n",
      "5 * 10 = 50\n",
      "6 * 1 = 6\n",
      "6 * 2 = 12\n",
      "6 * 3 = 18\n",
      "6 * 4 = 24\n",
      "6 * 5 = 30\n",
      "6 * 6 = 36\n",
      "6 * 7 = 42\n",
      "6 * 8 = 48\n",
      "6 * 9 = 54\n",
      "6 * 10 = 60\n",
      "7 * 1 = 7\n",
      "7 * 2 = 14\n",
      "7 * 3 = 21\n",
      "7 * 4 = 28\n",
      "7 * 5 = 35\n",
      "7 * 6 = 42\n",
      "7 * 7 = 49\n",
      "7 * 8 = 56\n",
      "7 * 9 = 63\n",
      "7 * 10 = 70\n",
      "8 * 1 = 8\n",
      "8 * 2 = 16\n",
      "8 * 3 = 24\n",
      "8 * 4 = 32\n",
      "8 * 5 = 40\n",
      "8 * 6 = 48\n",
      "8 * 7 = 56\n",
      "8 * 8 = 64\n",
      "8 * 9 = 72\n",
      "8 * 10 = 80\n",
      "9 * 1 = 9\n",
      "9 * 2 = 18\n",
      "9 * 3 = 27\n",
      "9 * 4 = 36\n",
      "9 * 5 = 45\n",
      "9 * 6 = 54\n",
      "9 * 7 = 63\n",
      "9 * 8 = 72\n",
      "9 * 9 = 81\n",
      "9 * 10 = 90\n",
      "10 * 1 = 10\n",
      "10 * 2 = 20\n",
      "10 * 3 = 30\n",
      "10 * 4 = 40\n",
      "10 * 5 = 50\n",
      "10 * 6 = 60\n",
      "10 * 7 = 70\n",
      "10 * 8 = 80\n",
      "10 * 9 = 90\n",
      "10 * 10 = 100\n"
     ]
    }
   ],
   "source": [
    "for table1 in range(1, 11):\n",
    "    for table2 in range(1, 11):\n",
    "        result = table1 * table2\n",
    "        print(f'{table1} * {table2} = {result}')"
   ]
  },
  {
   "cell_type": "code",
   "execution_count": 8,
   "id": "1f63b629",
   "metadata": {},
   "outputs": [],
   "source": [
    "# EJERCICIO 8"
   ]
  },
  {
   "cell_type": "code",
   "execution_count": 1,
   "id": "ea54ee37",
   "metadata": {},
   "outputs": [
    {
     "name": "stdout",
     "output_type": "stream",
     "text": [
      "Introduce un número: 9\n",
      "1 \n",
      "3 1 \n",
      "5 3 1 \n",
      "7 5 3 1 \n"
     ]
    }
   ],
   "source": [
    "num = int(input('Introduce un número: '))\n",
    "\n",
    "if num % 2 == 1:\n",
    "    for i in range(1, num, 2):\n",
    "        for j in range(i, 0, -2):\n",
    "            print(j, end=' ')\n",
    "        print()\n",
    "else:\n",
    "    num + 1 \n",
    "    for i in range(1, num, 2):\n",
    "        for j in range(i, 0, -2):\n",
    "            print(j, end=' ')\n",
    "        print()"
   ]
  },
  {
   "cell_type": "code",
   "execution_count": 9,
   "id": "2b945ba5",
   "metadata": {},
   "outputs": [],
   "source": [
    "# EJERCICIO 9"
   ]
  },
  {
   "cell_type": "code",
   "execution_count": 87,
   "id": "8aceaffa",
   "metadata": {},
   "outputs": [
    {
     "name": "stdout",
     "output_type": "stream",
     "text": [
      "Introduce la contraseña: patat\n",
      "Introduce la contraseña: adalovelace\n",
      "Introduce la contraseña: password\n"
     ]
    }
   ],
   "source": [
    "while (password := input('Introduce una contraseña ')) != 'contraseña':\n",
    "    print('Contraseña incorrecta')\n",
    "print('Contraseña Correcta')"
   ]
  },
  {
   "cell_type": "code",
   "execution_count": 10,
   "id": "92e6e1c6",
   "metadata": {},
   "outputs": [],
   "source": [
    "# EJERCICIO 10"
   ]
  },
  {
   "cell_type": "code",
   "execution_count": 50,
   "id": "2054804e",
   "metadata": {},
   "outputs": [
    {
     "name": "stdout",
     "output_type": "stream",
     "text": [
      "Introduce un número: 6\n",
      "No es un número primo\n"
     ]
    }
   ],
   "source": [
    "num = int(input('Introduce un número: '))\n",
    "\n",
    "if num % 2 != 0:\n",
    "    print(f'El número primo es correcto: ', num)\n",
    "else:\n",
    "    print('No es un número primo')"
   ]
  },
  {
   "cell_type": "code",
   "execution_count": 12,
   "id": "384ab3fa",
   "metadata": {},
   "outputs": [],
   "source": [
    "# EJERCICIO 11"
   ]
  },
  {
   "cell_type": "code",
   "execution_count": 84,
   "id": "ad6e52ba",
   "metadata": {},
   "outputs": [
    {
     "name": "stdout",
     "output_type": "stream",
     "text": [
      "Introduce una palabrahola como estamos \n",
      " \n",
      "s\n",
      "o\n",
      "m\n",
      "a\n",
      "t\n",
      "s\n",
      "e\n",
      " \n",
      "o\n",
      "m\n",
      "o\n",
      "c\n",
      " \n",
      "a\n",
      "l\n",
      "o\n",
      "h\n"
     ]
    }
   ],
   "source": [
    "word = input('Introduce una palabra/frase: ')\n",
    "invert_word = word[::-1]\n",
    "for i in invert_word:\n",
    "    print(i)"
   ]
  },
  {
   "cell_type": "code",
   "execution_count": 13,
   "id": "4e12fffc",
   "metadata": {},
   "outputs": [],
   "source": [
    "# EJERCICIO 12 "
   ]
  },
  {
   "cell_type": "code",
   "execution_count": 62,
   "id": "676b85b9",
   "metadata": {},
   "outputs": [
    {
     "name": "stdout",
     "output_type": "stream",
     "text": [
      "Introduce un frase: holaqueatal\n",
      "Introduce una letra: a\n",
      "La letra A aparece un total de 3\n"
     ]
    }
   ],
   "source": [
    "phrase = input('Introduce un frase: ')\n",
    "letter = input('Introduce una letra: ')\n",
    "count = 0\n",
    "for i in phrase:  \n",
    "    if letter == i:\n",
    "        count += 1\n",
    "print(f'La letra {letter.upper()} aparece un total de {count} veces')"
   ]
  },
  {
   "cell_type": "code",
   "execution_count": 14,
   "id": "8e118590",
   "metadata": {},
   "outputs": [],
   "source": [
    "# EJERCICIO 13"
   ]
  },
  {
   "cell_type": "code",
   "execution_count": 67,
   "id": "4d3a8214",
   "metadata": {},
   "outputs": [
    {
     "name": "stdout",
     "output_type": "stream",
     "text": [
      "Introduzca una frase, (indicar \"salir\" para cerrar programa): hola\n",
      "hola\n",
      "Introduzca una frase, (indicar \"salir\" para cerrar programa): como\n",
      "como\n",
      "Introduzca una frase, (indicar \"salir\" para cerrar programa): va\n",
      "va\n",
      "Introduzca una frase, (indicar \"salir\" para cerrar programa): salir\n",
      "salir\n"
     ]
    }
   ],
   "source": [
    "while word := input('Introduce texto (escribir \"salir\" para parar del programa)') != 'salir':\n",
    "    print(word)\n",
    "print('Ha salido con éxito')"
   ]
  }
 ],
 "metadata": {
  "kernelspec": {
   "display_name": "Python 3 (ipykernel)",
   "language": "python",
   "name": "python3"
  },
  "language_info": {
   "codemirror_mode": {
    "name": "ipython",
    "version": 3
   },
   "file_extension": ".py",
   "mimetype": "text/x-python",
   "name": "python",
   "nbconvert_exporter": "python",
   "pygments_lexer": "ipython3",
   "version": "3.11.4"
  }
 },
 "nbformat": 4,
 "nbformat_minor": 5
}
