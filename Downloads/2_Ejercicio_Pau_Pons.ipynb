{
 "cells": [
  {
   "cell_type": "code",
   "execution_count": null,
   "id": "94b248d6",
   "metadata": {},
   "outputs": [],
   "source": [
    "# EJERCICIO 1"
   ]
  },
  {
   "cell_type": "code",
   "execution_count": 2,
   "id": "ba058ba4",
   "metadata": {},
   "outputs": [
    {
     "name": "stdout",
     "output_type": "stream",
     "text": [
      "Introduce tu nombre: pepeç\n",
      "Cuántas veces? 3\n",
      "pepeç\n",
      "pepeç\n",
      "pepeç\n"
     ]
    }
   ],
   "source": [
    "name = input('Introduce tu nombre: ')\n",
    "times = int(input('Cuántas veces? '))\n",
    "for i in range(times):\n",
    "    print(name)"
   ]
  },
  {
   "cell_type": "code",
   "execution_count": 3,
   "id": "bbc6aa4f",
   "metadata": {},
   "outputs": [],
   "source": [
    "# EJERCICIO 2"
   ]
  },
  {
   "cell_type": "code",
   "execution_count": 20,
   "id": "b4ac91d1",
   "metadata": {},
   "outputs": [
    {
     "name": "stdout",
     "output_type": "stream",
     "text": [
      "Introduce tu nombre completo: pau pons\n",
      "pau pons\n",
      "PAU PONS\n",
      "Pau Pons\n"
     ]
    }
   ],
   "source": [
    "name = input('Introduce tu nombre completo: ')\n",
    "print(name.lower())\n",
    "print(name.upper())\n",
    "print(name.title())"
   ]
  },
  {
   "cell_type": "code",
   "execution_count": 4,
   "id": "b3c87cbc",
   "metadata": {},
   "outputs": [],
   "source": [
    "# EJERCICIO 3"
   ]
  },
  {
   "cell_type": "code",
   "execution_count": 22,
   "id": "bd0e290d",
   "metadata": {},
   "outputs": [
    {
     "name": "stdout",
     "output_type": "stream",
     "text": [
      "Introduce tu nombre: pau\n",
      "El nombre PAU tiene un total de 3 carácteres\n"
     ]
    }
   ],
   "source": [
    "name =  input('Introduce tu nombre: ')\n",
    "print(f\"El nombre {name.upper()} tiene un total de {len(name)} letras\")"
   ]
  },
  {
   "cell_type": "code",
   "execution_count": 6,
   "id": "1c26f0da",
   "metadata": {},
   "outputs": [],
   "source": [
    "# EJERCICIO 4"
   ]
  },
  {
   "cell_type": "code",
   "execution_count": 46,
   "id": "5893d499",
   "metadata": {},
   "outputs": [
    {
     "name": "stdout",
     "output_type": "stream",
     "text": [
      "Introduce un número de teléfono: +34-54546464-67\n"
     ]
    },
    {
     "data": {
      "text/plain": [
       "'54546464'"
      ]
     },
     "execution_count": 46,
     "metadata": {},
     "output_type": "execute_result"
    }
   ],
   "source": [
    "phone = input('Introduce un número de teléfono: ')\n",
    "tel = phone.split('-')\n",
    "tel[1]"
   ]
  },
  {
   "cell_type": "code",
   "execution_count": 7,
   "id": "dd3d2ed1",
   "metadata": {},
   "outputs": [],
   "source": [
    "# EJERCICIO 5"
   ]
  },
  {
   "cell_type": "code",
   "execution_count": 54,
   "id": "f0c06105",
   "metadata": {},
   "outputs": [
    {
     "name": "stdout",
     "output_type": "stream",
     "text": [
      "Introduce una frasehola mundo\n",
      "odnum aloh\n"
     ]
    }
   ],
   "source": [
    "phrase = input('Introduce una frase')\n",
    "print(phrase[ : :-1])"
   ]
  },
  {
   "cell_type": "code",
   "execution_count": 8,
   "id": "b550307e",
   "metadata": {},
   "outputs": [],
   "source": [
    "# EJERCICIO 6"
   ]
  },
  {
   "cell_type": "code",
   "execution_count": null,
   "id": "3b9bc2b7",
   "metadata": {},
   "outputs": [],
   "source": [
    "phrase = input('Introduce una frase: ')\n",
    "vocal = input('Introduce una vocal')\n",
    "\n",
    "if vocal in phrase:\n",
    "    new_text = phrase.replace(vocal, vocal.upper())\n",
    "    print(new_text)"
   ]
  },
  {
   "cell_type": "code",
   "execution_count": 9,
   "id": "c0773a03",
   "metadata": {},
   "outputs": [],
   "source": [
    "# EJERCICIO 7"
   ]
  },
  {
   "cell_type": "code",
   "execution_count": null,
   "id": "6cde279a",
   "metadata": {},
   "outputs": [],
   "source": [
    "mail = input('Introduce tu e-mail: ')\n",
    "part = mail.split('@')\n",
    "print(f'El nuevo mail es {part[0]}@ceu.es ')"
   ]
  },
  {
   "cell_type": "code",
   "execution_count": 11,
   "id": "dc312a50",
   "metadata": {},
   "outputs": [],
   "source": [
    "# EJERCICIO 8"
   ]
  },
  {
   "cell_type": "code",
   "execution_count": null,
   "id": "11f6f3f5",
   "metadata": {},
   "outputs": [],
   "source": [
    "money = input('Introduce el precio (indicando los centimos): ')\n",
    "if '.' in money: # & isinstance(money, float)\n",
    "    money = money.split('.')\n",
    "    if int(money[1]) < 100 and int(money[1]) > 0:\n",
    "        print(f\"Hay un total de {money[0]} euros y {money[1]} céntimos\")\n",
    "    else:\n",
    "        print('Introduce un valor real en euros')\n",
    "else:\n",
    "    print(f\"Hay un total de {money} euros y 00 céntimos\")"
   ]
  },
  {
   "cell_type": "code",
   "execution_count": 12,
   "id": "e03588e1",
   "metadata": {},
   "outputs": [],
   "source": [
    "# EJERCICIO 9"
   ]
  },
  {
   "cell_type": "code",
   "execution_count": null,
   "id": "0a66d66e",
   "metadata": {},
   "outputs": [],
   "source": [
    "date = input('Introduce la fecha en formato dd/mm/aaaa: ')\n",
    "date = date.split('/')\n",
    "\n",
    "print(f'El día {date[0]} del mes {date[1]} el año {date[2]}')"
   ]
  },
  {
   "cell_type": "code",
   "execution_count": 13,
   "id": "7791742c",
   "metadata": {},
   "outputs": [],
   "source": [
    "# EJERCICIO 10"
   ]
  },
  {
   "cell_type": "code",
   "execution_count": null,
   "id": "88625107",
   "metadata": {},
   "outputs": [],
   "source": [
    "products = input('Introduce los productos, separados por comas: ')\n",
    "products = products.split(', ')\n",
    "\n",
    "for product in products:\n",
    "    print(product)"
   ]
  },
  {
   "cell_type": "code",
   "execution_count": 14,
   "id": "edc13a36",
   "metadata": {},
   "outputs": [],
   "source": [
    "# EJERCICIO 11"
   ]
  },
  {
   "cell_type": "code",
   "execution_count": null,
   "id": "625b8c5f",
   "metadata": {},
   "outputs": [],
   "source": [
    "product = input(\"Introduce el nombre del producto: \")\n",
    "price = float(input(\"Introduce el precio unitario del producto: \"))\n",
    "units = int(input(\"Introduce el número de unidades: \"))\n",
    "final_price = price * units\n",
    "\n",
    "print(f\"El producto {product} con un precio unitario de {price:09.2f}, {units:03.0f} unidades y costo final de {final_price:011.2f}\")"
   ]
  }
 ],
 "metadata": {
  "kernelspec": {
   "display_name": "Python 3 (ipykernel)",
   "language": "python",
   "name": "python3"
  },
  "language_info": {
   "codemirror_mode": {
    "name": "ipython",
    "version": 3
   },
   "file_extension": ".py",
   "mimetype": "text/x-python",
   "name": "python",
   "nbconvert_exporter": "python",
   "pygments_lexer": "ipython3",
   "version": "3.11.4"
  }
 },
 "nbformat": 4,
 "nbformat_minor": 5
}
