{
 "cells": [
  {
   "cell_type": "code",
   "execution_count": 1,
   "id": "395d1829",
   "metadata": {},
   "outputs": [],
   "source": [
    "# EJERCICIO 1"
   ]
  },
  {
   "cell_type": "code",
   "execution_count": 106,
   "id": "37614088",
   "metadata": {},
   "outputs": [
    {
     "data": {
      "text/plain": [
       "['Matemáticas', 'Física', 'Química', 'Historia', 'Lengua']"
      ]
     },
     "execution_count": 106,
     "metadata": {},
     "output_type": "execute_result"
    }
   ],
   "source": [
    "subjects =['Matemáticas', 'Física', 'Química', 'Historia', 'Lengua']\n",
    "subjects"
   ]
  },
  {
   "cell_type": "code",
   "execution_count": 2,
   "id": "93e0657a",
   "metadata": {},
   "outputs": [],
   "source": [
    "# EJERCICIO 2 "
   ]
  },
  {
   "cell_type": "code",
   "execution_count": 50,
   "id": "dbdedcdb",
   "metadata": {},
   "outputs": [
    {
     "name": "stdout",
     "output_type": "stream",
     "text": [
      "Yo estudio Matemáticas\n",
      "Yo estudio  Física\n",
      "Yo estudio  Química\n",
      "Yo estudio  Historia\n",
      "Yo estudio  Lengua\n"
     ]
    }
   ],
   "source": [
    "subjects = ['Matemáticas', 'Física', 'Química', 'Historia', 'Lengua']\n",
    "\n",
    "for subject in subjects:\n",
    "    print(f'Yo estudio {subject}')"
   ]
  },
  {
   "cell_type": "code",
   "execution_count": 3,
   "id": "f4b8a050",
   "metadata": {},
   "outputs": [],
   "source": [
    "# EJERCICIO 3 --- terminar"
   ]
  },
  {
   "cell_type": "code",
   "execution_count": 53,
   "id": "a8dc8ec7",
   "metadata": {},
   "outputs": [
    {
     "name": "stdout",
     "output_type": "stream",
     "text": [
      "Introduce la nota de Matemáticas4\n",
      "Introduce la nota de  Física6\n",
      "Introduce la nota de  Química7\n",
      "Introduce la nota de  Historia8\n",
      "Introduce la nota de  Lengua9\n",
      "En la materia  Lengua tengo la nota [4, 6, 7, 8, 9]\n"
     ]
    }
   ],
   "source": [
    "subjects = ['Matemáticas', 'Física', 'Química', 'Historia', 'Lengua']\n",
    "# mark = [int(input(f'Introduce la nota de {subject}')) for subject in subjects]\n",
    "# print(f'En la materia {subject} tengo la nota {mark}')\n",
    "# un zip??"
   ]
  },
  {
   "cell_type": "code",
   "execution_count": 4,
   "id": "1f7f7c90",
   "metadata": {},
   "outputs": [],
   "source": [
    "# EJERCICIO 4 --repassar"
   ]
  },
  {
   "cell_type": "code",
   "execution_count": 68,
   "id": "01950213",
   "metadata": {},
   "outputs": [
    {
     "name": "stdout",
     "output_type": "stream",
     "text": [
      "Introduce los números ganadores de la lotería: 5\n",
      "Introduce los números ganadores de la lotería: 6\n",
      "Introduce los números ganadores de la lotería: 5\n",
      "Introduce los números ganadores de la lotería: 6\n",
      "Introduce los números ganadores de la lotería: 5\n",
      "Introduce los números ganadores de la lotería: 6\n",
      "Los números ganadores de la lotería son: [5, 6, 5, 6, 5, 6]\n"
     ]
    }
   ],
   "source": [
    "lottery = [int(input('Introduce los números ganadores de la lotería: ')) for i in range(6)]\n",
    "print(f'Los números ganadores de la lotería son: {lottery}')\n"
   ]
  },
  {
   "cell_type": "code",
   "execution_count": 5,
   "id": "dc5e32d3",
   "metadata": {},
   "outputs": [],
   "source": [
    "# EJERCICIO 5"
   ]
  },
  {
   "cell_type": "code",
   "execution_count": 91,
   "id": "e410fbfd",
   "metadata": {},
   "outputs": [
    {
     "data": {
      "text/plain": [
       "[10, 9, 8, 7, 6, 5, 4, 3, 2, 1]"
      ]
     },
     "execution_count": 91,
     "metadata": {},
     "output_type": "execute_result"
    }
   ],
   "source": [
    "nums = [1, 2, 3, 4, 5, 6, 7, 8, 9, 10]\n",
    "sorted(nums, reverse=True)"
   ]
  },
  {
   "cell_type": "code",
   "execution_count": 6,
   "id": "ea90aa46",
   "metadata": {},
   "outputs": [],
   "source": [
    "# EJERCICIO 6"
   ]
  },
  {
   "cell_type": "code",
   "execution_count": 134,
   "id": "180ec531",
   "metadata": {},
   "outputs": [
    {
     "name": "stdout",
     "output_type": "stream",
     "text": [
      "Introduce la nota de Matemáticas 4\n",
      "Introduce la nota de Física 9\n",
      "Introduce la nota de Química 9\n",
      "Introduce la nota de Historia 3\n",
      "Introduce la nota de Lengua 2\n"
     ]
    },
    {
     "data": {
      "text/plain": [
       "['Matemáticas', 'Historia', 'Lengua']"
      ]
     },
     "execution_count": 134,
     "metadata": {},
     "output_type": "execute_result"
    }
   ],
   "source": [
    "subjects = ['Matemáticas', 'Física', 'Química', 'Historia', 'Lengua']\n",
    "del_subjects = []\n",
    "for subject in subjects:\n",
    "    mark = int(input(f'Introduce la nota de {subject} '))\n",
    "    if mark < 5:\n",
    "        del_subjects.append(subject)\n",
    "print(f'Las asignaturas suspendidas son {del_subjects}')"
   ]
  },
  {
   "cell_type": "code",
   "execution_count": 7,
   "id": "b0b50a67",
   "metadata": {},
   "outputs": [],
   "source": [
    "# EJERCICIO 7"
   ]
  },
  {
   "cell_type": "code",
   "execution_count": 181,
   "id": "2d8c9d75",
   "metadata": {},
   "outputs": [
    {
     "name": "stdout",
     "output_type": "stream",
     "text": [
      "['a', 'b', 'd', 'e', 'g', 'h', 'j', 'k', 'm', 'n', 'p', 'q', 's', 't', 'v', 'w', 'y', 'z']\n"
     ]
    }
   ],
   "source": [
    "abc = ['a', 'b', 'c', 'd', 'e', 'f', 'g', 'h', 'i', 'j', 'k', 'l', 'm', 'n', 'o', 'p', 'q', 'r', 's', 't', 'u', 'v', 'w', 'x', 'y', 'z']\n",
    "\n",
    "for i in range(len(abc), 1, -1):\n",
    "    if i % 3 == 0:\n",
    "        abc.pop(i-1)\n",
    "print(abc)"
   ]
  },
  {
   "cell_type": "code",
   "execution_count": 8,
   "id": "58459fa8",
   "metadata": {},
   "outputs": [],
   "source": [
    "# EJERCICIO 8"
   ]
  },
  {
   "cell_type": "code",
   "execution_count": 163,
   "id": "4a7a6d7d",
   "metadata": {},
   "outputs": [
    {
     "name": "stdout",
     "output_type": "stream",
     "text": [
      "Introduce un palabra: hola\n"
     ]
    }
   ],
   "source": [
    "word = input('Introduce un palabra: ')\n",
    "reverse = word[::-1]\n",
    "if word == reverse:\n",
    "    print(f'La palabra {word} es un palíndromo')\n",
    "else:\n",
    "    print('No es un palíndromo')"
   ]
  },
  {
   "cell_type": "code",
   "execution_count": 9,
   "id": "0eb97f62",
   "metadata": {},
   "outputs": [],
   "source": [
    "# EJERCICIO 9 ---fer"
   ]
  },
  {
   "cell_type": "code",
   "execution_count": 182,
   "id": "7ee6dba5",
   "metadata": {},
   "outputs": [
    {
     "name": "stdout",
     "output_type": "stream",
     "text": [
      "Introduce un palabra: sfdfs\n"
     ]
    },
    {
     "ename": "TypeError",
     "evalue": "cannot unpack non-iterable int object",
     "output_type": "error",
     "traceback": [
      "\u001b[1;31m---------------------------------------------------------------------------\u001b[0m",
      "\u001b[1;31mTypeError\u001b[0m                                 Traceback (most recent call last)",
      "Cell \u001b[1;32mIn[182], line 2\u001b[0m\n\u001b[0;32m      1\u001b[0m word \u001b[38;5;241m=\u001b[39m \u001b[38;5;28minput\u001b[39m(\u001b[38;5;124m'\u001b[39m\u001b[38;5;124mIntroduce un palabra: \u001b[39m\u001b[38;5;124m'\u001b[39m)\n\u001b[1;32m----> 2\u001b[0m a, e, i, o, u \u001b[38;5;241m=\u001b[39m \u001b[38;5;241m0\u001b[39m\n\u001b[0;32m      3\u001b[0m \u001b[38;5;28;01mfor\u001b[39;00m letter \u001b[38;5;129;01min\u001b[39;00m word:\n\u001b[0;32m      4\u001b[0m     \u001b[38;5;28;01mif\u001b[39;00m letter\u001b[38;5;241m.\u001b[39mlower() \u001b[38;5;129;01min\u001b[39;00m \u001b[38;5;124m'\u001b[39m\u001b[38;5;124ma\u001b[39m\u001b[38;5;124m'\u001b[39m:\n",
      "\u001b[1;31mTypeError\u001b[0m: cannot unpack non-iterable int object"
     ]
    }
   ],
   "source": [
    "word = input('Introduce un palabra: ')\n",
    "a, e, i, o, u = 0\n",
    "for letter in word:\n",
    "    if letter.lower() in 'a':\n",
    "        a += 1\n",
    "    if letter.lower() in 'e':\n",
    "        e += 1\n",
    "print(f'Hay un total de {a} As, {e} Es')\n"
   ]
  },
  {
   "cell_type": "code",
   "execution_count": 10,
   "id": "c5b8c2da",
   "metadata": {},
   "outputs": [],
   "source": [
    "# EJERCICIO 10"
   ]
  },
  {
   "cell_type": "code",
   "execution_count": 167,
   "id": "af11fa94",
   "metadata": {},
   "outputs": [
    {
     "name": "stdout",
     "output_type": "stream",
     "text": [
      "El precio menor es 8\n",
      "El precio mayor es 80\n"
     ]
    }
   ],
   "source": [
    "prices = [50, 75, 46, 22, 80, 65, 8]\n",
    "print(f'El precio menor es {min(prices)}')\n",
    "print(f'El precio mayor es {max(prices)}')"
   ]
  },
  {
   "cell_type": "code",
   "execution_count": 11,
   "id": "844b2dff",
   "metadata": {},
   "outputs": [],
   "source": [
    "# EJERCICIO 11"
   ]
  },
  {
   "cell_type": "code",
   "execution_count": null,
   "id": "d6e76af4",
   "metadata": {},
   "outputs": [],
   "source": []
  },
  {
   "cell_type": "code",
   "execution_count": 12,
   "id": "72994dd7",
   "metadata": {},
   "outputs": [],
   "source": [
    "# EJERCICIO 12"
   ]
  },
  {
   "cell_type": "code",
   "execution_count": null,
   "id": "b1531782",
   "metadata": {},
   "outputs": [],
   "source": [
    "a = [[1,2,3], [4,5,6]]\n",
    "b =[[-1,0], [0,1], [1,1]]"
   ]
  },
  {
   "cell_type": "code",
   "execution_count": 13,
   "id": "ee413329",
   "metadata": {},
   "outputs": [],
   "source": [
    "# EJERCICIO 13"
   ]
  },
  {
   "cell_type": "code",
   "execution_count": null,
   "id": "e947e778",
   "metadata": {},
   "outputs": [],
   "source": []
  }
 ],
 "metadata": {
  "kernelspec": {
   "display_name": "Python 3 (ipykernel)",
   "language": "python",
   "name": "python3"
  },
  "language_info": {
   "codemirror_mode": {
    "name": "ipython",
    "version": 3
   },
   "file_extension": ".py",
   "mimetype": "text/x-python",
   "name": "python",
   "nbconvert_exporter": "python",
   "pygments_lexer": "ipython3",
   "version": "3.11.4"
  }
 },
 "nbformat": 4,
 "nbformat_minor": 5
}
