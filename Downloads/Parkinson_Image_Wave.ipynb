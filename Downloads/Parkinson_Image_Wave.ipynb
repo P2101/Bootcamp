{
 "cells": [
  {
   "cell_type": "code",
   "execution_count": null,
   "id": "232b4b03",
   "metadata": {},
   "outputs": [
    {
     "name": "stdout",
     "output_type": "stream",
     "text": [
      "WARNING:tensorflow:From C:\\Users\\mati\\anaconda3\\Lib\\site-packages\\keras\\src\\losses.py:2976: The name tf.losses.sparse_softmax_cross_entropy is deprecated. Please use tf.compat.v1.losses.sparse_softmax_cross_entropy instead.\n",
      "\n",
      "Found 8640 images belonging to 2 classes.\n",
      "Found 240 images belonging to 2 classes.\n",
      "WARNING:tensorflow:From C:\\Users\\mati\\anaconda3\\Lib\\site-packages\\keras\\src\\backend.py:873: The name tf.get_default_graph is deprecated. Please use tf.compat.v1.get_default_graph instead.\n",
      "\n",
      "WARNING:tensorflow:From C:\\Users\\mati\\anaconda3\\Lib\\site-packages\\keras\\src\\layers\\pooling\\max_pooling2d.py:161: The name tf.nn.max_pool is deprecated. Please use tf.nn.max_pool2d instead.\n",
      "\n",
      "WARNING:tensorflow:From C:\\Users\\mati\\anaconda3\\Lib\\site-packages\\keras\\src\\optimizers\\__init__.py:309: The name tf.train.Optimizer is deprecated. Please use tf.compat.v1.train.Optimizer instead.\n",
      "\n",
      "Epoch 1/100\n",
      "WARNING:tensorflow:From C:\\Users\\mati\\anaconda3\\Lib\\site-packages\\keras\\src\\utils\\tf_utils.py:492: The name tf.ragged.RaggedTensorValue is deprecated. Please use tf.compat.v1.ragged.RaggedTensorValue instead.\n",
      "\n",
      "WARNING:tensorflow:From C:\\Users\\mati\\anaconda3\\Lib\\site-packages\\keras\\src\\engine\\base_layer_utils.py:384: The name tf.executing_eagerly_outside_functions is deprecated. Please use tf.compat.v1.executing_eagerly_outside_functions instead.\n",
      "\n",
      "68/68 [==============================] - 192s 3s/step - loss: 0.6859 - accuracy: 0.5425 - val_loss: 0.6890 - val_accuracy: 0.5500\n",
      "Epoch 2/100\n",
      "68/68 [==============================] - 174s 3s/step - loss: 0.6389 - accuracy: 0.6317 - val_loss: 0.6967 - val_accuracy: 0.5792\n",
      "Epoch 3/100\n",
      "68/68 [==============================] - 175s 3s/step - loss: 0.5919 - accuracy: 0.6852 - val_loss: 0.6915 - val_accuracy: 0.6417\n",
      "Epoch 4/100\n",
      "51/68 [=====================>........] - ETA: 43s - loss: 0.5561 - accuracy: 0.7129"
     ]
    }
   ],
   "source": [
    "# aquí empieza\n",
    "from tensorflow.keras.preprocessing.image import ImageDataGenerator\n",
    "from tensorflow.keras.models import Sequential\n",
    "from tensorflow.keras.layers import Conv2D, MaxPooling2D, Dropout, Flatten, Dense\n",
    "from tensorflow.keras.optimizers import Adam\n",
    "from keras.callbacks import EarlyStopping\n",
    "\n",
    "# Especifica las rutas a tus carpetas de entrenamiento y prueba\n",
    "train_data_dir = 'waves/training'\n",
    "test_data_dir = 'waves/testing'\n",
    "\n",
    "# Especifica el tamaño de tus imágenes y el tamaño del lote (batch size)\n",
    "img_width, img_height = 100, 100\n",
    "batch_size = 128\n",
    "\n",
    "# Configura el generador de imágenes para entrenamiento\n",
    "train_datagen = ImageDataGenerator(\n",
    "    rescale=1.0/255,\n",
    "    shear_range=0.2,\n",
    "    zoom_range=0.2,\n",
    "    horizontal_flip=True\n",
    ")\n",
    "\n",
    "# Configura el generador de imágenes para prueba (sin aumentación)\n",
    "test_datagen = ImageDataGenerator(rescale=1.0/255)\n",
    "\n",
    "# Carga las imágenes de entrenamiento desde la carpeta\n",
    "train_generator = train_datagen.flow_from_directory(\n",
    "    train_data_dir,\n",
    "    target_size=(img_width, img_height),\n",
    "    batch_size=batch_size,\n",
    "    class_mode='binary'\n",
    ")\n",
    "\n",
    "# Carga las imágenes de prueba desde la carpeta\n",
    "test_generator = test_datagen.flow_from_directory(\n",
    "    test_data_dir,\n",
    "    target_size=(img_width, img_height),\n",
    "    batch_size=batch_size,\n",
    "    class_mode='binary'\n",
    ")\n",
    "\n",
    "# Define el modelo\n",
    "modeloCNN = Sequential([\n",
    "    Conv2D(128, (3, 3), activation='relu', input_shape=(img_width, img_height, 3)),\n",
    "    MaxPooling2D(2, 2),\n",
    "    \n",
    "    Conv2D(64, (3, 3), activation='relu', input_shape=(img_width, img_height, 3)),\n",
    "    MaxPooling2D(2, 2),\n",
    "    \n",
    "    Conv2D(32, (3, 3), activation='relu'),\n",
    "    MaxPooling2D(2, 2),\n",
    "    \n",
    "    Dropout(0.5),\n",
    "    Flatten(),\n",
    "    Dense(100, activation='relu'),\n",
    "    Dense(1, activation='sigmoid')\n",
    "])\n",
    "\n",
    "# Compila el modelo\n",
    "modeloCNN.compile(optimizer='adam', loss='binary_crossentropy', metrics=['accuracy'])\n",
    "\n",
    "# Entrena el modelo\n",
    "early_stop = EarlyStopping(monitor='val_loss', patience=10, restore_best_weights=True)\n",
    "\n",
    "modeloCNN.fit(train_generator, epochs=100, validation_data=test_generator, callbacks=[early_stop])\n",
    "\n",
    "# 9.21"
   ]
  },
  {
   "cell_type": "code",
   "execution_count": 8,
   "id": "31913d95",
   "metadata": {},
   "outputs": [
    {
     "name": "stdout",
     "output_type": "stream",
     "text": [
      "1/1 [==============================] - 0s 179ms/step - loss: 0.3573 - accuracy: 0.9333\n",
      "Pérdida en el conjunto de prueba: 0.3573010563850403\n",
      "Precisión en el conjunto de prueba: 0.9333333373069763\n"
     ]
    }
   ],
   "source": [
    "# Evalúa el modelo con el conjunto de datos de prueba\n",
    "pérdida, precisión = modeloCNN.evaluate(test_generator)\n",
    "\n",
    "# Imprime las métricas\n",
    "print(\"Pérdida en el conjunto de prueba:\", pérdida)\n",
    "print(\"Precisión en el conjunto de prueba:\", precisión)"
   ]
  },
  {
   "cell_type": "code",
   "execution_count": 3,
   "id": "0b64069e",
   "metadata": {},
   "outputs": [
    {
     "name": "stdout",
     "output_type": "stream",
     "text": [
      "INFO:tensorflow:Assets written to: waves.pkl\\assets\n"
     ]
    },
    {
     "name": "stderr",
     "output_type": "stream",
     "text": [
      "INFO:tensorflow:Assets written to: waves.pkl\\assets\n"
     ]
    }
   ],
   "source": [
    "modeloCNN.save('waves.pkl')"
   ]
  },
  {
   "cell_type": "code",
   "execution_count": 9,
   "id": "1311721b",
   "metadata": {},
   "outputs": [],
   "source": [
    "import pickle\n",
    "\n",
    "# Supongamos que tienes un modelo llamado 'modelo'\n",
    "with open('modelo.pkl', 'wb') as file:\n",
    "    pickle.dump(modeloCNN, file)\n"
   ]
  },
  {
   "cell_type": "code",
   "execution_count": 10,
   "id": "52453b31",
   "metadata": {},
   "outputs": [],
   "source": [
    "from tensorflow.keras.models import save_model\n",
    "\n",
    "# Supongamos que tienes un modelo llamado 'modelo'\n",
    "modeloCNN.save('modeloCNN.h5')\n"
   ]
  },
  {
   "cell_type": "code",
   "execution_count": 7,
   "id": "3af668c4",
   "metadata": {},
   "outputs": [
    {
     "data": {
      "image/png": "[encoded data removed]",
      "text/plain": [
       "<Figure size 640x480 with 3 Axes>"
      ]
     },
     "metadata": {},
     "output_type": "display_data"
    }
   ],
   "source": [
    "import cv2\n",
    "import matplotlib.pyplot as plt\n",
    "\n",
    "# Ruta de la imagen original\n",
    "ruta_original = \"wave.jpeg\"  # Añadir imagen nueva\n",
    "\n",
    "# Leer la imagen original\n",
    "imagen_original = cv2.imread(ruta_original)\n",
    "\n",
    "# Verificar que la imagen se haya cargado correctamente\n",
    "if imagen_original is not None:\n",
    "    # Aplicar aumento de contraste\n",
    "    alpha = 1.5  # Factor de aumento de contraste\n",
    "    beta = 0     # Desplazamiento\n",
    "    imagen_contrastada = cv2.convertScaleAbs(imagen_original, alpha=alpha, beta=beta)\n",
    "\n",
    "    # Convertir la imagen contrastada a escala de grises\n",
    "    imagen_gris = cv2.cvtColor(imagen_contrastada, cv2.COLOR_BGR2GRAY)\n",
    "\n",
    "    # Invertir colores en escala de grises\n",
    "    imagen_invertida = cv2.bitwise_not(imagen_gris)\n",
    "\n",
    "    # Nombre de la nueva imagen invertida\n",
    "    nombre_nueva_imagen = \"parkinson_negro_prueba.png\"\n",
    "\n",
    "    # Guardar la imagen invertida\n",
    "    cv2.imwrite(nombre_nueva_imagen, imagen_invertida)\n",
    "\n",
    "    # Mostrar la imagen original, contrastada e invertida\n",
    "    plt.subplot(1, 3, 1)\n",
    "    plt.imshow(cv2.cvtColor(imagen_original, cv2.COLOR_BGR2RGB))\n",
    "    plt.title(\"Imagen Original\")\n",
    "\n",
    "    plt.subplot(1, 3, 2)\n",
    "    plt.imshow(cv2.cvtColor(imagen_contrastada, cv2.COLOR_BGR2RGB))\n",
    "    plt.title(\"Imagen Contrastada\")\n",
    "\n",
    "    plt.subplot(1, 3, 3)\n",
    "    plt.imshow(cv2.cvtColor(imagen_invertida, cv2.COLOR_BGR2RGB), cmap='gray')\n",
    "    plt.title(\"Imagen Invertida\")\n",
    "\n",
    "    plt.show()\n",
    "else:\n",
    "    print(f\"Error: No se pudo cargar la imagen en: {ruta_original}\")\n"
   ]
  },
  {
   "cell_type": "code",
   "execution_count": 10,
   "id": "0836aa88",
   "metadata": {},
   "outputs": [
    {
     "name": "stdout",
     "output_type": "stream",
     "text": [
      "1/1 [==============================] - 0s 158ms/step\n",
      "[[0.9655373]]\n",
      "Predicción: parkinson\n"
     ]
    }
   ],
   "source": [
    "import numpy as np\n",
    "from keras.models import load_model\n",
    "from keras.preprocessing import image\n",
    "from keras.applications.inception_v3 import preprocess_input\n",
    "\n",
    "# Cargar el modelo previamente entrenado\n",
    "modelo_cargado = load_model('modeloCNN_wave_93.h5')\n",
    "\n",
    "# Ruta de la imagen que deseas predecir\n",
    "img_path = nombre_nueva_imagen  # Asegúrate de proporcionar la ruta correcta\n",
    "\n",
    "# Cargar la imagen y ajustar su tamaño\n",
    "img = image.load_img(img_path, target_size=(100, 100)) # mirar sa plantilla i ses fotos com estan exactament\n",
    "\n",
    "# Convertir la imagen a un array de numpy\n",
    "img_array = image.img_to_array(img)\n",
    "\n",
    "# Expandir las dimensiones para que coincidan con las expectativas del modelo\n",
    "img_array = np.expand_dims(img_array, axis=0)\n",
    "\n",
    "# Preprocesar la imagen\n",
    "img_array = preprocess_input(img_array)\n",
    "\n",
    "# Realizar la predicción\n",
    "prediccion = modelo_cargado.predict(img_array)\n",
    "\n",
    "print(prediccion)\n",
    "# Obtener la clase predicha\n",
    "clase_predicha = \"parkinson\" if prediccion[0][0] > 0.5 else \"healthy\"\n",
    "\n",
    "print(\"Predicción: \" + clase_predicha)\n"
   ]
  },
  {
   "cell_type": "code",
   "execution_count": null,
   "id": "6018f176",
   "metadata": {},
   "outputs": [],
   "source": []
  },
  {
   "cell_type": "code",
   "execution_count": null,
   "id": "b774c2c9",
   "metadata": {},
   "outputs": [],
   "source": []
  },
  {
   "cell_type": "code",
   "execution_count": null,
   "id": "f4943348",
   "metadata": {},
   "outputs": [],
   "source": []
  },
  {
   "cell_type": "code",
   "execution_count": null,
   "id": "912c1d78",
   "metadata": {},
   "outputs": [],
   "source": []
  },
  {
   "cell_type": "code",
   "execution_count": null,
   "id": "fbce73d7",
   "metadata": {},
   "outputs": [],
   "source": []
  },
  {
   "cell_type": "code",
   "execution_count": 14,
   "id": "c5e2d9f5",
   "metadata": {},
   "outputs": [
    {
     "name": "stdout",
     "output_type": "stream",
     "text": [
      "WARNING:tensorflow:6 out of the last 6 calls to <function Model.make_predict_function.<locals>.predict_function at 0x000001C7E726FF60> triggered tf.function retracing. Tracing is expensive and the excessive number of tracings could be due to (1) creating @tf.function repeatedly in a loop, (2) passing tensors with different shapes, (3) passing Python objects instead of tensors. For (1), please define your @tf.function outside of the loop. For (2), @tf.function has reduce_retracing=True option that can avoid unnecessary retracing. For (3), please refer to https://www.tensorflow.org/guide/function#controlling_retracing and https://www.tensorflow.org/api_docs/python/tf/function for  more details.\n",
      "1/1 [==============================] - 0s 208ms/step\n",
      "[[0.1227693]]\n",
      "Predicción: healthy\n"
     ]
    }
   ],
   "source": [
    "import numpy as np\n",
    "from keras.models import load_model\n",
    "from keras.preprocessing import image\n",
    "from keras.applications.inception_v3 import preprocess_input\n",
    "\n",
    "# Cargar el modelo previamente entrenado\n",
    "modelo_cargado = load_model('modeloCNN_wave_93.h5')\n",
    "\n",
    "# Ruta de la imagen que deseas predecir\n",
    "img_path = nombre_nueva_imagen  # Asegúrate de proporcionar la ruta correcta\n",
    "\n",
    "# Cargar la imagen y ajustar su tamaño\n",
    "img = image.load_img(img_path, target_size=(100, 100))\n",
    "\n",
    "# Convertir la imagen a un array de numpy\n",
    "img_array = image.img_to_array(img)\n",
    "\n",
    "# Expandir las dimensiones para que coincidan con las expectativas del modelo\n",
    "img_array = np.expand_dims(img_array, axis=0)\n",
    "\n",
    "# Preprocesar la imagen\n",
    "img_array = preprocess_input(img_array)\n",
    "\n",
    "# Realizar la predicción\n",
    "prediccion = modelo_cargado.predict(img_array)\n",
    "\n",
    "print(prediccion)\n",
    "# Obtener la clase predicha\n",
    "clase_predicha = \"parkinson\" if prediccion[0][0] > 0.5 else \"healthy\"\n",
    "\n",
    "print(\"Predicción: \" + clase_predicha)\n"
   ]
  },
  {
   "cell_type": "code",
   "execution_count": null,
   "id": "50616fe2",
   "metadata": {},
   "outputs": [],
   "source": []
  },
  {
   "cell_type": "code",
   "execution_count": null,
   "id": "7c51a107",
   "metadata": {},
   "outputs": [],
   "source": []
  },
  {
   "cell_type": "code",
   "execution_count": null,
   "id": "c3ef0f38",
   "metadata": {},
   "outputs": [],
   "source": []
  }
 ],
 "metadata": {
  "kernelspec": {
   "display_name": "Python 3 (ipykernel)",
   "language": "python",
   "name": "python3"
  },
  "language_info": {
   "codemirror_mode": {
    "name": "ipython",
    "version": 3
   },
   "file_extension": ".py",
   "mimetype": "text/x-python",
   "name": "python",
   "nbconvert_exporter": "python",
   "pygments_lexer": "ipython3",
   "version": "3.11.4"
  }
 },
 "nbformat": 4,
 "nbformat_minor": 5
}
