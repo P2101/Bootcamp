{
 "cells": [
  {
   "cell_type": "code",
   "execution_count": 1,
   "id": "7decfbbc",
   "metadata": {},
   "outputs": [],
   "source": [
    "# EJERCICIO 1"
   ]
  },
  {
   "cell_type": "code",
   "execution_count": 7,
   "id": "76ef1595",
   "metadata": {},
   "outputs": [
    {
     "name": "stdout",
     "output_type": "stream",
     "text": [
      "La moto tiene 2 ruedas\n",
      "El motor se está encendiendo\n",
      "El automóvil no está arrancando\n"
     ]
    }
   ],
   "source": [
    "class Vehicle:\n",
    "    def __init__(self, marca, model, year):\n",
    "        self.marca = marca\n",
    "        self.model = model\n",
    "        self.year = year\n",
    "        \n",
    "class Car(Vehicle):\n",
    "    wheels = 4\n",
    "    def __init__(self, marca, model, year, doors, arrancar = False): \n",
    "        super().__init__(marca, model, year)\n",
    "        self.doors = doors\n",
    "        self.arrancar = arrancar\n",
    "    def arrancar_motor(self):\n",
    "        if self.arrancar:\n",
    "            return print(\"El automóvil está arrancando\")\n",
    "        return print(\"El automóvil no está arrancando\")\n",
    "    \n",
    "class Moto(Vehicle):\n",
    "    wheels = 2\n",
    "    def __init__(self, marca, model, year, cilindrada, encender = False):\n",
    "        super().__init__(marca, model, year)\n",
    "        self.cilindrada = cilindrada\n",
    "        self.encender = encender\n",
    "    def encender_motor(self):\n",
    "        if self.encender:\n",
    "            return print(\"El motor se está encendiendo\")\n",
    "        return print(\"El motor no se está encendiendo\")\n",
    "        \n",
    "c1 = Vehicle('VolksWagen', 'Golf', 2004)\n",
    "c2 = Car('Ford','Fiesta', 1997, 5)\n",
    "m1 = Moto('VH', '123h', 2013, 2345, True)\n",
    "print('La moto tiene', m1.wheels , 'ruedas')\n",
    "m1.encender_motor()\n",
    "c2.arrancar_motor()"
   ]
  },
  {
   "cell_type": "code",
   "execution_count": 2,
   "id": "57798755",
   "metadata": {},
   "outputs": [],
   "source": [
    "# EJERCICIO 2"
   ]
  },
  {
   "cell_type": "code",
   "execution_count": null,
   "id": "afc59fd9",
   "metadata": {},
   "outputs": [],
   "source": [
    "class Employee:\n",
    "    def __init__(self, name, first_name, salary, mail):\n",
    "        self.name = name\n",
    "        self.first_name = first_name\n",
    "        self.__salary = salary\n",
    "        self._mail = mail\n",
    "\n",
    "    @property\n",
    "    def salary(self):\n",
    "        return self.__salary\n",
    "\n",
    "    @salary.setter\n",
    "    def salary(self, nueva_salary):\n",
    "        if isinstance(nueva_salary, int) and nueva_salary > 0:\n",
    "            self.__salary = nueva_salary\n",
    "        else:\n",
    "            print(\"Error: La edad debe ser un número entero positivo.\")\n",
    "    @property\n",
    "    def mail(self):\n",
    "        return self._mail\n",
    "    @mail.setter\n",
    "    def mail(self, nuevo_mail):\n",
    "        if isinstance(nuevo_mail, str):\n",
    "            self._mail = nuevo_mail\n",
    "        else:\n",
    "            print(\"Error: La edad debe ser una cadena de carácteres.\")\n",
    "            \n",
    "e = Employee('pepe', 'elmalo', 2222, 'pepon@gmail.com')          \n",
    "e.salary = 2345\n",
    "print(e.salary)\n",
    "e.mail = 'elmalo@gmail.com'\n",
    "print(e.mail)"
   ]
  },
  {
   "cell_type": "code",
   "execution_count": 3,
   "id": "6879045d",
   "metadata": {},
   "outputs": [],
   "source": [
    "# EJERCICIO 3"
   ]
  },
  {
   "cell_type": "code",
   "execution_count": null,
   "id": "2660d429",
   "metadata": {},
   "outputs": [],
   "source": [
    "class MaterialBiblioteca:\n",
    "    def __init__(self, title, publication_year):\n",
    "        self.title = title\n",
    "        self.publication_year = publication_year\n",
    "    \n",
    "class Book(MaterialBiblioteca):\n",
    "    def __init__(self, title, publication_year, author):\n",
    "        super().__init__(title, publication_year)\n",
    "        self.author = author\n",
    "    def lend(self):\n",
    "        return \"El libro ha sido prestado\"\n",
    "    def __str__(self):\n",
    "        return f\"El libro {self.title} publicado el {self.publication_year} del autor {self.author} \"\n",
    "        \n",
    "class Magazine(MaterialBiblioteca):\n",
    "    def __init__(self, title, publication_year, number):\n",
    "        super().__init__(title, publication_year)\n",
    "        self.number = number\n",
    "    def give_back(self):\n",
    "        return \"La revista ha sido devuelta\"\n",
    "    def __str__(self):\n",
    "        return f\"La revista {self.title} publicada el {self.publication_year} número {self.number} \"\n",
    "    \n",
    "class Dvd(MaterialBiblioteca):\n",
    "    def __init__(self, title, publication_year, director):\n",
    "        super().__init__(title, publication_year)\n",
    "        self.director = director\n",
    "    def __str__(self):\n",
    "        return f\"El DVD {self.title} publicado el {self.publication_year} del director {self.director} \"\n",
    "    def display(self):\n",
    "        return \"Reproduciendo el DVD\"\n",
    "    \n",
    "book = Book('The Game', 2011, 'Neil Strauss')\n",
    "print(book)\n",
    "print(book.lend())\n",
    "magazine = Magazine('Posidonia', 2023, 23)\n",
    "print(magazine)\n",
    "print(magazine.give_back())\n",
    "dvd = Dvd('ReservoirDogs', 1999, 'Tarantino')\n",
    "print(dvd)\n",
    "print(dvd.display())"
   ]
  },
  {
   "cell_type": "code",
   "execution_count": 4,
   "id": "53f641a9",
   "metadata": {},
   "outputs": [],
   "source": [
    "# EJERCICIO 4"
   ]
  },
  {
   "cell_type": "code",
   "execution_count": 8,
   "id": "b72c1a8d",
   "metadata": {},
   "outputs": [
    {
     "name": "stdout",
     "output_type": "stream",
     "text": [
      "Estás jugando a Póquer\n",
      "La carta \"as\" es alta? True\n",
      "La carta \"4\" es alta? False\n",
      "Estás jugando a Black Jack\n",
      "El valor de \"rey\" es 13\n",
      "El valor de \"5\" es 5\n"
     ]
    }
   ],
   "source": [
    "from abc import ABC, abstractmethod\n",
    "\n",
    "class Carta(ABC):\n",
    "    def __init__(self, valor, palo):\n",
    "        self.valor = valor\n",
    "        self.palo = palo\n",
    "        \n",
    "    @abstractmethod\n",
    "    def descripcion_juego(self):\n",
    "        pass\n",
    "        \n",
    "class CartaPoker(Carta):\n",
    "    def descripcion_juego(self):\n",
    "        return 'Estás jugando a Póquer'\n",
    "\n",
    "    def es_carta_alta(self):\n",
    "        for i in ['as', 'rey','reina','jota']:\n",
    "            if self.valor == i:\n",
    "                return True\n",
    "            return False\n",
    "        \n",
    "class CartaBlackjack(Carta):\n",
    "    def descripcion_juego(self):\n",
    "        return 'Estás jugando a Black Jack'\n",
    "    def valor_blackjack(self):\n",
    "        if self.valor == 'as':\n",
    "            return [1, 11]\n",
    "        elif self.valor == 'rey':\n",
    "            return 13\n",
    "        elif self.valor == 'reina':\n",
    "            return 12\n",
    "        elif self.valor == 'jota':\n",
    "            return 11\n",
    "        return self.valor\n",
    "    \n",
    "c = CartaPoker('as', 'corazones')\n",
    "c2 = CartaBlackjack('rey', 'treboles')\n",
    "print(c.descripcion_juego())\n",
    "print(f'La carta \"{c.valor}\" es alta? {c.es_carta_alta()}')\n",
    "c4 = CartaPoker(4, 'corazones')\n",
    "print(f'La carta \"{c4.valor}\" es alta? {c4.es_carta_alta()}')\n",
    "print(c2.descripcion_juego())\n",
    "print(f'El valor de \"{c2.valor}\" es {c2.valor_blackjack()}')\n",
    "c3 = CartaBlackjack('as', 'picas')\n",
    "print(f'El valor de \"{c3.valor}\" es {c3.valor_blackjack()}')"
   ]
  }
 ],
 "metadata": {
  "kernelspec": {
   "display_name": "Python 3 (ipykernel)",
   "language": "python",
   "name": "python3"
  },
  "language_info": {
   "codemirror_mode": {
    "name": "ipython",
    "version": 3
   },
   "file_extension": ".py",
   "mimetype": "text/x-python",
   "name": "python",
   "nbconvert_exporter": "python",
   "pygments_lexer": "ipython3",
   "version": "3.11.4"
  }
 },
 "nbformat": 4,
 "nbformat_minor": 5
}
