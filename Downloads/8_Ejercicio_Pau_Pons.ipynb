{
 "cells": [
  {
   "cell_type": "code",
   "execution_count": null,
   "id": "5b980905",
   "metadata": {},
   "outputs": [],
   "source": [
    "# EJERCICIO 1"
   ]
  },
  {
   "cell_type": "code",
   "execution_count": 3,
   "id": "0fc45cfd",
   "metadata": {},
   "outputs": [
    {
     "name": "stdout",
     "output_type": "stream",
     "text": [
      "¡Hola amiga!\n"
     ]
    }
   ],
   "source": [
    "def say_hello():\n",
    "    print('¡Hola amiga!')\n",
    "say_hello()"
   ]
  },
  {
   "cell_type": "code",
   "execution_count": 4,
   "id": "0fcd7123",
   "metadata": {},
   "outputs": [],
   "source": [
    "# EJERCICIO 2"
   ]
  },
  {
   "cell_type": "code",
   "execution_count": 14,
   "id": "a63a9068",
   "metadata": {},
   "outputs": [
    {
     "name": "stdout",
     "output_type": "stream",
     "text": [
      "¡Hola Oscar!\n"
     ]
    }
   ],
   "source": [
    "def say_hello(name):\n",
    "    print(f'¡Hola {name}!')\n",
    "say_hello('Oscar')"
   ]
  },
  {
   "cell_type": "code",
   "execution_count": 5,
   "id": "d7091be2",
   "metadata": {},
   "outputs": [],
   "source": [
    "# EJERCICIO 3"
   ]
  },
  {
   "cell_type": "code",
   "execution_count": 18,
   "id": "8e03b7c0",
   "metadata": {},
   "outputs": [
    {
     "name": "stdout",
     "output_type": "stream",
     "text": [
      "1\n"
     ]
    }
   ],
   "source": [
    "def factorial(n):\n",
    "    if n == 0:\n",
    "        return 1\n",
    "    else:\n",
    "        result = 1\n",
    "        for i in range(1, n + 1):\n",
    "            result *= i\n",
    "        return result\n",
    "\n",
    "print(factorial(4))"
   ]
  },
  {
   "cell_type": "code",
   "execution_count": 6,
   "id": "afd090e6",
   "metadata": {},
   "outputs": [],
   "source": [
    "# EJERCICIO 4"
   ]
  },
  {
   "cell_type": "code",
   "execution_count": 28,
   "id": "203d35e3",
   "metadata": {},
   "outputs": [
    {
     "name": "stdout",
     "output_type": "stream",
     "text": [
      "El total de la factura es 1210.0 euros\n"
     ]
    }
   ],
   "source": [
    "def invoice(n, tax=21):\n",
    "    iva = n * (tax / 100)\n",
    "    return print(f'El total de la factura es {n + iva} euros')\n",
    "invoice(1000)"
   ]
  },
  {
   "cell_type": "code",
   "execution_count": 7,
   "id": "133e5ceb",
   "metadata": {},
   "outputs": [],
   "source": [
    "# EJERCICIO 5"
   ]
  },
  {
   "cell_type": "code",
   "execution_count": 35,
   "id": "532102cb",
   "metadata": {},
   "outputs": [
    {
     "data": {
      "text/plain": [
       "12"
      ]
     },
     "execution_count": 35,
     "metadata": {},
     "output_type": "execute_result"
    }
   ],
   "source": []
  },
  {
   "cell_type": "code",
   "execution_count": 8,
   "id": "a3ef41f6",
   "metadata": {},
   "outputs": [],
   "source": [
    "# EJERCICIO 6"
   ]
  },
  {
   "cell_type": "code",
   "execution_count": 86,
   "id": "98c87b92",
   "metadata": {},
   "outputs": [
    {
     "data": {
      "text/plain": [
       "3.0"
      ]
     },
     "execution_count": 86,
     "metadata": {},
     "output_type": "execute_result"
    }
   ],
   "source": [
    "def suma(lista):\n",
    "    total=0\n",
    "    longitud = len(lista)\n",
    "    for i in range(longitud):\n",
    "        total += lista[i]\n",
    "    average = total/longitud\n",
    "    return average\n",
    "suma([3,3,3,3])"
   ]
  },
  {
   "cell_type": "code",
   "execution_count": 9,
   "id": "095e2bb9",
   "metadata": {},
   "outputs": [],
   "source": [
    "# EJERCICIO 7"
   ]
  },
  {
   "cell_type": "code",
   "execution_count": null,
   "id": "452cb8b1",
   "metadata": {},
   "outputs": [],
   "source": [
    "def cuadrados(values):\n",
    "    lista = []\n",
    "    for i in values:        \n",
    "        num = i ** 2\n",
    "        lista.append(num)\n",
    "    return lista\n",
    "print(cuadrados([2,3,4,5]))"
   ]
  },
  {
   "cell_type": "code",
   "execution_count": 10,
   "id": "f46cb44f",
   "metadata": {},
   "outputs": [],
   "source": [
    "# EJERCICIO 8"
   ]
  },
  {
   "cell_type": "code",
   "execution_count": 57,
   "id": "0539a4bb",
   "metadata": {},
   "outputs": [
    {
     "data": {
      "text/plain": [
       "2"
      ]
     },
     "execution_count": 57,
     "metadata": {},
     "output_type": "execute_result"
    }
   ],
   "source": []
  },
  {
   "cell_type": "code",
   "execution_count": 11,
   "id": "97621195",
   "metadata": {},
   "outputs": [],
   "source": [
    "# EJERCICIO 9"
   ]
  },
  {
   "cell_type": "code",
   "execution_count": 77,
   "id": "03894647",
   "metadata": {},
   "outputs": [
    {
     "name": "stdout",
     "output_type": "stream",
     "text": [
      "El máximo común divisor es  2\n",
      "El mínimo común múltiplo es  60.0\n"
     ]
    }
   ],
   "source": [
    "def mcd(a, b):\n",
    "    temporal = 0\n",
    "    while b != 0:\n",
    "        temporal = b\n",
    "        b = a % b\n",
    "        a = temporal\n",
    "    return a\n",
    "\n",
    "def mcm(a, b):\n",
    "    return (a * b) / mcd(a, b)\n",
    "     \n",
    "print('El máximo común divisor es ', mcd(6, 20))\n",
    "print('El mínimo común múltiplo es ', mcm(6, 20))"
   ]
  },
  {
   "cell_type": "code",
   "execution_count": 12,
   "id": "ea0801e6",
   "metadata": {},
   "outputs": [],
   "source": [
    "# EJERCICIO 10"
   ]
  },
  {
   "cell_type": "code",
   "execution_count": 7,
   "id": "9e5ecfd3",
   "metadata": {},
   "outputs": [
    {
     "ename": "SyntaxError",
     "evalue": "expected ':' (771903868.py, line 11)",
     "output_type": "error",
     "traceback": [
      "\u001b[1;36m  Cell \u001b[1;32mIn[7], line 11\u001b[1;36m\u001b[0m\n\u001b[1;33m    def decimal(num)\u001b[0m\n\u001b[1;37m                    ^\u001b[0m\n\u001b[1;31mSyntaxError\u001b[0m\u001b[1;31m:\u001b[0m expected ':'\n"
     ]
    }
   ],
   "source": [
    "def binary(num):\n",
    "    lista = []\n",
    "    while num != 0:\n",
    "        new_num = num % 2\n",
    "        cociente = num // 2\n",
    "        lista.append(new_num)\n",
    "        num = cociente\n",
    "    return lista\n",
    "binary(46)\n",
    "\n",
    "#def decimal(num)\n"
   ]
  },
  {
   "cell_type": "code",
   "execution_count": 13,
   "id": "869e91bf",
   "metadata": {},
   "outputs": [],
   "source": [
    "# EJERCICIO 11"
   ]
  },
  {
   "cell_type": "code",
   "execution_count": 18,
   "id": "33e1cc2f",
   "metadata": {},
   "outputs": [
    {
     "name": "stdout",
     "output_type": "stream",
     "text": [
      "Introduce una frasesf\n",
      "0\n"
     ]
    }
   ],
   "source": [
    "data = {}\n",
    "phrase = input('Introduce una frase')\n",
    "words = phrase.split()\n",
    "longitud = len(words)\n",
    "\n",
    "for word in range(len(words)):\n",
    "    # data.add(word)\n",
    "    print(word)"
   ]
  },
  {
   "cell_type": "code",
   "execution_count": 19,
   "id": "cd7cead1",
   "metadata": {},
   "outputs": [],
   "source": [
    "# Calculadora"
   ]
  },
  {
   "cell_type": "code",
   "execution_count": 39,
   "id": "f1a94e2c",
   "metadata": {},
   "outputs": [
    {
     "name": "stdout",
     "output_type": "stream",
     "text": [
      "1-Suma, 2-Resta, 3-Multiplicación, 4-División\n",
      "Escoge una opción (0 para salir): 0\n"
     ]
    }
   ],
   "source": [
    "print('1-Suma, 2-Resta, 3-Multiplicación, 4-División')\n",
    "\n",
    "def calculator():\n",
    "    while (option:= int(input('Escoge una opción (0 para salir): '))) != 0:\n",
    "        a = float(input('Introduce un número: '))\n",
    "        b = float(input('Introduce un número: '))\n",
    "        match option:\n",
    "            case 1:\n",
    "                print(a + b)\n",
    "            case 2:\n",
    "                print(a - b)\n",
    "            case 3:\n",
    "                print(a * b)\n",
    "            case 4:\n",
    "                print(a // b)\n",
    "calculator()"
   ]
  },
  {
   "cell_type": "code",
   "execution_count": 1,
   "id": "b0bec7b2",
   "metadata": {},
   "outputs": [
    {
     "data": {
      "text/plain": [
       "range(1, 11)"
      ]
     },
     "execution_count": 1,
     "metadata": {},
     "output_type": "execute_result"
    }
   ],
   "source": []
  }
 ],
 "metadata": {
  "kernelspec": {
   "display_name": "Python 3 (ipykernel)",
   "language": "python",
   "name": "python3"
  },
  "language_info": {
   "codemirror_mode": {
    "name": "ipython",
    "version": 3
   },
   "file_extension": ".py",
   "mimetype": "text/x-python",
   "name": "python",
   "nbconvert_exporter": "python",
   "pygments_lexer": "ipython3",
   "version": "3.11.4"
  }
 },
 "nbformat": 4,
 "nbformat_minor": 5
}
