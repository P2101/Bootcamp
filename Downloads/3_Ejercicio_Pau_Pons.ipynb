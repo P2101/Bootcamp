{
 "cells": [
  {
   "cell_type": "code",
   "execution_count": null,
   "id": "da68dee0",
   "metadata": {},
   "outputs": [],
   "source": [
    "# EJERCICIO 1"
   ]
  },
  {
   "cell_type": "code",
   "execution_count": 4,
   "id": "3514d579",
   "metadata": {},
   "outputs": [
    {
     "name": "stdout",
     "output_type": "stream",
     "text": [
      "Introduce tu edad: 18\n",
      "Eres mayor de edad\n"
     ]
    }
   ],
   "source": [
    "age = int(input('Introduce tu edad: '))\n",
    "if age >= 18:\n",
    "    print('Eres mayor de edad')\n",
    "else:\n",
    "    print('Eres menor de edad')"
   ]
  },
  {
   "cell_type": "code",
   "execution_count": 5,
   "id": "ce29f16c",
   "metadata": {},
   "outputs": [],
   "source": [
    "# EJERCICIO 2"
   ]
  },
  {
   "cell_type": "code",
   "execution_count": 13,
   "id": "e8509917",
   "metadata": {},
   "outputs": [
    {
     "name": "stdout",
     "output_type": "stream",
     "text": [
      "Introduce la contraseña: ashfsdf\n",
      "Introduce la contraseña: sfsfe\n",
      "Introduce la contraseña: sfsf\n",
      "Introduce la contraseña: sdsf\n",
      "Introduce la contraseña: sdfs\n",
      "Introduce la contraseña: fsdfs\n",
      "Introduce la contraseña: CoNtraSeña\n"
     ]
    }
   ],
   "source": [
    "password = 'contraseña'\n",
    "while True:\n",
    "    test = input('Introduce la contraseña: ')\n",
    "    if test.lower() == password:\n",
    "        break"
   ]
  },
  {
   "cell_type": "code",
   "execution_count": 6,
   "id": "2bb79cf9",
   "metadata": {},
   "outputs": [],
   "source": [
    "# EJERCICIO 3"
   ]
  },
  {
   "cell_type": "code",
   "execution_count": 25,
   "id": "f38ca524",
   "metadata": {},
   "outputs": [
    {
     "name": "stdout",
     "output_type": "stream",
     "text": [
      "Introduce un número: 4\n",
      "Introduce un número: 0\n",
      "ERROR, divisor no puede ser 0\n"
     ]
    }
   ],
   "source": [
    "num1 = int(input('Introduce un número: '))\n",
    "num2 = int(input('Introduce un número: '))\n",
    "\n",
    "if num2 == 0:\n",
    "    print('ERROR, divisor no puede ser 0')\n",
    "else:\n",
    "    cociente = num1 // num2\n",
    "    resto = num1 % num2\n",
    "    print(f'El total cociente es {cociente} y el resto es {resto}')\n",
    "    "
   ]
  },
  {
   "cell_type": "code",
   "execution_count": 7,
   "id": "0123e387",
   "metadata": {},
   "outputs": [],
   "source": [
    "# EJERCICIO 4"
   ]
  },
  {
   "cell_type": "code",
   "execution_count": 21,
   "id": "94cee6e7",
   "metadata": {},
   "outputs": [
    {
     "name": "stdout",
     "output_type": "stream",
     "text": [
      "Introduce un número5\n",
      "El número es impar\n"
     ]
    }
   ],
   "source": [
    "num = int(input('Introduce un número: '))\n",
    "if num % 2 == 0:\n",
    "    print('El número es par')\n",
    "else:\n",
    "    print('El número es impar')"
   ]
  },
  {
   "cell_type": "code",
   "execution_count": 8,
   "id": "6930badd",
   "metadata": {},
   "outputs": [],
   "source": [
    "# EJERCICIO 5"
   ]
  },
  {
   "cell_type": "code",
   "execution_count": 27,
   "id": "b5bc3caa",
   "metadata": {},
   "outputs": [
    {
     "name": "stdout",
     "output_type": "stream",
     "text": [
      "Introduce tu edad: 17\n",
      "Introduce tu sueldo: 1000\n",
      "Tienes que tributar\n"
     ]
    }
   ],
   "source": [
    "age = int(input('Introduce tu edad: '))\n",
    "salary = int(input('Introduce tu sueldo: '))\n",
    "if age > 16 and salary >= 1000:\n",
    "    print('Tienes que tributar')\n",
    "else:\n",
    "    print('No tienes que tributar')"
   ]
  },
  {
   "cell_type": "code",
   "execution_count": 9,
   "id": "d2d15046",
   "metadata": {},
   "outputs": [],
   "source": [
    "# EJERCICIO 6"
   ]
  },
  {
   "cell_type": "code",
   "execution_count": null,
   "id": "0c114c2c",
   "metadata": {},
   "outputs": [],
   "source": [
    "name = input('Introduce tu nombre: ')\n",
    "gender = input('Indica tu sexo (m o f): ')\n",
    "\n",
    "if 'a' <= name[0] <= 'm':\n",
    "    if gender.lower() == 'f':\n",
    "        print('Estás en el grupo A')\n",
    "    if gender.lower() == 'm':\n",
    "        print('Estás en el grupo B')\n",
    "else:\n",
    "    if gender.lower() == 'f':\n",
    "        print('Estás en el grupo B')\n",
    "    if gender.lower() == 'm':\n",
    "        print('Estás en el grupo A')"
   ]
  },
  {
   "cell_type": "code",
   "execution_count": 10,
   "id": "65dc2ca6",
   "metadata": {},
   "outputs": [],
   "source": [
    "# EJERCICIO 7"
   ]
  },
  {
   "cell_type": "code",
   "execution_count": null,
   "id": "4a7dc563",
   "metadata": {},
   "outputs": [],
   "source": [
    "rent = int(input('Introduce tu renta anual'))\n",
    "\n",
    "match rent:\n",
    "    case n if n < 10000:\n",
    "        print(f'Con su renta de {rent}€ tiene un tipo impositivo del 5%')\n",
    "    case n if n  >= 10000 and n < 20000:\n",
    "        print(f'Con su renta de {rent}€ tiene un tipo impositivo del 15%')\n",
    "    case n if n  >= 20000 and n < 35000:\n",
    "        print(f'Con su renta de {rent}€ tiene un tipo impositivo del 20%')\n",
    "    case n if n  >= 35000 and n < 45000:\n",
    "        print(f'Con su renta de {rent}€ tiene un tipo impositivo del 30%')\n",
    "    case n if n > 45000:\n",
    "        print(f'Con su renta de {rent}€ tiene un tipo impositivo del 45%')"
   ]
  },
  {
   "cell_type": "code",
   "execution_count": null,
   "id": "5e14fcd2",
   "metadata": {},
   "outputs": [],
   "source": [
    "# EJERCICIO 8"
   ]
  },
  {
   "cell_type": "code",
   "execution_count": null,
   "id": "2524c1cb",
   "metadata": {},
   "outputs": [],
   "source": [
    "score = float(input('Introduce la puntuación: '))\n",
    "\n",
    "match score:\n",
    "    case n if n == 0.0:\n",
    "        print(f'Tiene un nivel Inaceptable y obtiene {2400 * score} euros')\n",
    "    case n if n == 0.4:\n",
    "        print(f'Tiene un nivel Aceptable y obtiene {2400 * score} euros')\n",
    "    case n if n >= 0.6:\n",
    "        print(f'Tiene un nivel Meritorio y obtiene {2400 * score} euros')\n",
    "    case _:\n",
    "        print('Introduce una puntuación correcta')"
   ]
  },
  {
   "cell_type": "code",
   "execution_count": null,
   "id": "4cfd4a54",
   "metadata": {},
   "outputs": [],
   "source": [
    "# EJERCICIO 9"
   ]
  },
  {
   "cell_type": "code",
   "execution_count": null,
   "id": "c779f904",
   "metadata": {},
   "outputs": [],
   "source": [
    "age = int(input('Introduce tu edad: '))\n",
    "\n",
    "match age:\n",
    "    case n if n < 4 and n > 0:\n",
    "        print('Entrada Gratuita')\n",
    "    case n if n >= 4 and n <= 18:\n",
    "        print('Entrada a 5 euros')\n",
    "    case n if n > 18:\n",
    "        print('Entrada a 10 euros')\n",
    "    case _:\n",
    "        print('Edad incorrecta')"
   ]
  },
  {
   "cell_type": "code",
   "execution_count": null,
   "id": "d95509e6",
   "metadata": {},
   "outputs": [],
   "source": [
    "# EJERCICIO 10"
   ]
  },
  {
   "cell_type": "code",
   "execution_count": 2,
   "id": "9b0a6804",
   "metadata": {},
   "outputs": [
    {
     "name": "stdout",
     "output_type": "stream",
     "text": [
      "Quiere una pizza vegetariana? [s/n]s\n",
      "Ingredientes vegetarianos: 1- Pimiento, 2- tofu\n",
      "Introduce el número del alimento a añadir: 1\n",
      "Pizza vegetariana de Tomate, Mozzarella y Pimiento\n"
     ]
    }
   ],
   "source": [
    "question = input('Quiere una pizza vegetariana? [s/n]')\n",
    "\n",
    "match question:\n",
    "    case n if n == 's':\n",
    "        print('Ingredientes vegetarianos: 1- Pimiento, 2- tofu')\n",
    "        option = int(input('Introduce el número del alimento a añadir: '))\n",
    "        \n",
    "        match option:\n",
    "            case n if n == 1:\n",
    "                print('Pizza vegetariana de Tomate, Mozzarella y Pimiento')\n",
    "            case n if n == 2:\n",
    "                print('Pizza vegetariana de Tomate, Mozzarella y Tofu')\n",
    "            case _:\n",
    "                print('Introduce un número correcto')\n",
    "    case n if n == 'n':\n",
    "        print('Ingredientes no vegetarianos: 1- Peperoni, 2- Jamón, 3- Salmón')\n",
    "        option = int(input('Introduce el número del alimento a añadir: '))\n",
    "        \n",
    "        match option:\n",
    "            case n if n == 1:\n",
    "                print('Pizza NO vegetariana de Tomate, Mozzarella y Peperoni')\n",
    "            case n if n == 2:\n",
    "                print('Pizza NO vegetariana de Tomate, Mozzarella y Jamón')\n",
    "            case n if n == 3:\n",
    "                print('Pizza NO vegetariana de Tomate, Mozzarella y Salmón')\n",
    "            case _:\n",
    "                print('Introduce un número correcto')\n",
    "    case _:\n",
    "        print('Introduce si quiere una pizza vegetariana o no')"
   ]
  }
 ],
 "metadata": {
  "kernelspec": {
   "display_name": "Python 3 (ipykernel)",
   "language": "python",
   "name": "python3"
  },
  "language_info": {
   "codemirror_mode": {
    "name": "ipython",
    "version": 3
   },
   "file_extension": ".py",
   "mimetype": "text/x-python",
   "name": "python",
   "nbconvert_exporter": "python",
   "pygments_lexer": "ipython3",
   "version": "3.11.4"
  }
 },
 "nbformat": 4,
 "nbformat_minor": 5
}
