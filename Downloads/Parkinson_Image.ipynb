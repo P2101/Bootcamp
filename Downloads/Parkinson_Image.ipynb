{
 "cells": [
  {
   "cell_type": "code",
   "execution_count": 7,
   "id": "232b4b03",
   "metadata": {},
   "outputs": [
    {
     "name": "stdout",
     "output_type": "stream",
     "text": [
      "Found 720 images belonging to 2 classes.\n",
      "Found 30 images belonging to 2 classes.\n",
      "Epoch 1/100\n",
      "23/23 [==============================] - 11s 412ms/step - loss: 0.6959 - accuracy: 0.5319 - val_loss: 0.6916 - val_accuracy: 0.5000\n",
      "Epoch 2/100\n",
      "23/23 [==============================] - 10s 433ms/step - loss: 0.6909 - accuracy: 0.5208 - val_loss: 0.7140 - val_accuracy: 0.5000\n",
      "Epoch 3/100\n",
      "23/23 [==============================] - 10s 434ms/step - loss: 0.6849 - accuracy: 0.5500 - val_loss: 0.6877 - val_accuracy: 0.5000\n",
      "Epoch 4/100\n",
      "23/23 [==============================] - 10s 444ms/step - loss: 0.6785 - accuracy: 0.5750 - val_loss: 0.7389 - val_accuracy: 0.5000\n",
      "Epoch 5/100\n",
      "23/23 [==============================] - 11s 453ms/step - loss: 0.6966 - accuracy: 0.5222 - val_loss: 0.6866 - val_accuracy: 0.5000\n",
      "Epoch 6/100\n",
      "23/23 [==============================] - 10s 443ms/step - loss: 0.6858 - accuracy: 0.5028 - val_loss: 0.6857 - val_accuracy: 0.5000\n",
      "Epoch 7/100\n",
      "23/23 [==============================] - 10s 433ms/step - loss: 0.6777 - accuracy: 0.5486 - val_loss: 0.6760 - val_accuracy: 0.6000\n",
      "Epoch 8/100\n",
      "23/23 [==============================] - 10s 448ms/step - loss: 0.6490 - accuracy: 0.6319 - val_loss: 0.6176 - val_accuracy: 0.6333\n",
      "Epoch 9/100\n",
      "23/23 [==============================] - 10s 427ms/step - loss: 0.6442 - accuracy: 0.6125 - val_loss: 0.6472 - val_accuracy: 0.6000\n",
      "Epoch 10/100\n",
      "23/23 [==============================] - 10s 450ms/step - loss: 0.6286 - accuracy: 0.6431 - val_loss: 0.6261 - val_accuracy: 0.6000\n",
      "Epoch 11/100\n",
      "23/23 [==============================] - 11s 454ms/step - loss: 0.5909 - accuracy: 0.6833 - val_loss: 0.6227 - val_accuracy: 0.5667\n",
      "Epoch 12/100\n",
      "23/23 [==============================] - 11s 461ms/step - loss: 0.5869 - accuracy: 0.6750 - val_loss: 0.6174 - val_accuracy: 0.7333\n",
      "Epoch 13/100\n",
      "23/23 [==============================] - 11s 462ms/step - loss: 0.5762 - accuracy: 0.6903 - val_loss: 0.6461 - val_accuracy: 0.6333\n",
      "Epoch 14/100\n",
      "23/23 [==============================] - 10s 459ms/step - loss: 0.5451 - accuracy: 0.7361 - val_loss: 0.6003 - val_accuracy: 0.7000\n",
      "Epoch 15/100\n",
      "23/23 [==============================] - 10s 459ms/step - loss: 0.5401 - accuracy: 0.7167 - val_loss: 0.6127 - val_accuracy: 0.6667\n",
      "Epoch 16/100\n",
      "23/23 [==============================] - 10s 440ms/step - loss: 0.5641 - accuracy: 0.7083 - val_loss: 0.5870 - val_accuracy: 0.6667\n",
      "Epoch 17/100\n",
      "23/23 [==============================] - 10s 443ms/step - loss: 0.5681 - accuracy: 0.6972 - val_loss: 0.6871 - val_accuracy: 0.6000\n",
      "Epoch 18/100\n",
      "23/23 [==============================] - 10s 444ms/step - loss: 0.5644 - accuracy: 0.7208 - val_loss: 0.6702 - val_accuracy: 0.5667\n",
      "Epoch 19/100\n",
      "23/23 [==============================] - 10s 447ms/step - loss: 0.5566 - accuracy: 0.7111 - val_loss: 0.6104 - val_accuracy: 0.7333\n",
      "Epoch 20/100\n",
      "23/23 [==============================] - 11s 470ms/step - loss: 0.5314 - accuracy: 0.7236 - val_loss: 0.5673 - val_accuracy: 0.5667\n",
      "Epoch 21/100\n",
      "23/23 [==============================] - 10s 451ms/step - loss: 0.5108 - accuracy: 0.7403 - val_loss: 0.5283 - val_accuracy: 0.7667\n",
      "Epoch 22/100\n",
      "23/23 [==============================] - 10s 443ms/step - loss: 0.5055 - accuracy: 0.7486 - val_loss: 0.5304 - val_accuracy: 0.7667\n",
      "Epoch 23/100\n",
      "23/23 [==============================] - 11s 458ms/step - loss: 0.4996 - accuracy: 0.7500 - val_loss: 0.5790 - val_accuracy: 0.6333\n",
      "Epoch 24/100\n",
      "23/23 [==============================] - 10s 446ms/step - loss: 0.4921 - accuracy: 0.7611 - val_loss: 0.5058 - val_accuracy: 0.7667\n",
      "Epoch 25/100\n",
      "23/23 [==============================] - 9s 405ms/step - loss: 0.4996 - accuracy: 0.7556 - val_loss: 0.5931 - val_accuracy: 0.6000\n",
      "Epoch 26/100\n",
      "23/23 [==============================] - 9s 400ms/step - loss: 0.4581 - accuracy: 0.7986 - val_loss: 0.6558 - val_accuracy: 0.6000\n",
      "Epoch 27/100\n",
      "23/23 [==============================] - 9s 395ms/step - loss: 0.4847 - accuracy: 0.7625 - val_loss: 0.4994 - val_accuracy: 0.8333\n",
      "Epoch 28/100\n",
      "23/23 [==============================] - 10s 433ms/step - loss: 0.5197 - accuracy: 0.7333 - val_loss: 0.5365 - val_accuracy: 0.7333\n",
      "Epoch 29/100\n",
      "23/23 [==============================] - 10s 447ms/step - loss: 0.4348 - accuracy: 0.8000 - val_loss: 0.5225 - val_accuracy: 0.8000\n",
      "Epoch 30/100\n",
      "23/23 [==============================] - 10s 438ms/step - loss: 0.4973 - accuracy: 0.7639 - val_loss: 0.5328 - val_accuracy: 0.7333\n",
      "Epoch 31/100\n",
      "23/23 [==============================] - 10s 436ms/step - loss: 0.4435 - accuracy: 0.8083 - val_loss: 0.4782 - val_accuracy: 0.7333\n",
      "Epoch 32/100\n",
      "23/23 [==============================] - 10s 434ms/step - loss: 0.4070 - accuracy: 0.8236 - val_loss: 0.5263 - val_accuracy: 0.7667\n",
      "Epoch 33/100\n",
      "23/23 [==============================] - 11s 459ms/step - loss: 0.4686 - accuracy: 0.7667 - val_loss: 0.4959 - val_accuracy: 0.7667\n",
      "Epoch 34/100\n",
      "23/23 [==============================] - 10s 436ms/step - loss: 0.4012 - accuracy: 0.8167 - val_loss: 0.4275 - val_accuracy: 0.8333\n",
      "Epoch 35/100\n",
      "23/23 [==============================] - 10s 445ms/step - loss: 0.3635 - accuracy: 0.8375 - val_loss: 0.4572 - val_accuracy: 0.8000\n",
      "Epoch 36/100\n",
      "23/23 [==============================] - 10s 451ms/step - loss: 0.3921 - accuracy: 0.8347 - val_loss: 0.6345 - val_accuracy: 0.6333\n",
      "Epoch 37/100\n",
      "23/23 [==============================] - 10s 440ms/step - loss: 0.4259 - accuracy: 0.7931 - val_loss: 0.4721 - val_accuracy: 0.7667\n",
      "Epoch 38/100\n",
      "23/23 [==============================] - 10s 436ms/step - loss: 0.3405 - accuracy: 0.8611 - val_loss: 0.5004 - val_accuracy: 0.8333\n",
      "Epoch 39/100\n",
      "23/23 [==============================] - 10s 442ms/step - loss: 0.3357 - accuracy: 0.8528 - val_loss: 0.9995 - val_accuracy: 0.5667\n",
      "Epoch 40/100\n",
      "23/23 [==============================] - 10s 437ms/step - loss: 0.3728 - accuracy: 0.8292 - val_loss: 0.4735 - val_accuracy: 0.8000\n",
      "Epoch 41/100\n",
      "23/23 [==============================] - 10s 440ms/step - loss: 0.3210 - accuracy: 0.8778 - val_loss: 0.7230 - val_accuracy: 0.6667\n",
      "Epoch 42/100\n",
      "23/23 [==============================] - 10s 443ms/step - loss: 0.3216 - accuracy: 0.8667 - val_loss: 0.4334 - val_accuracy: 0.8000\n",
      "Epoch 43/100\n",
      "23/23 [==============================] - 10s 433ms/step - loss: 0.3218 - accuracy: 0.8625 - val_loss: 0.4030 - val_accuracy: 0.8333\n",
      "Epoch 44/100\n",
      "23/23 [==============================] - 10s 435ms/step - loss: 0.3112 - accuracy: 0.8806 - val_loss: 0.4605 - val_accuracy: 0.8333\n",
      "Epoch 45/100\n",
      "23/23 [==============================] - 10s 435ms/step - loss: 0.3493 - accuracy: 0.8486 - val_loss: 0.6591 - val_accuracy: 0.7667\n",
      "Epoch 46/100\n",
      "23/23 [==============================] - 10s 434ms/step - loss: 0.2795 - accuracy: 0.8972 - val_loss: 0.4432 - val_accuracy: 0.7667\n",
      "Epoch 47/100\n",
      "23/23 [==============================] - 10s 437ms/step - loss: 0.3013 - accuracy: 0.8778 - val_loss: 0.4413 - val_accuracy: 0.8667\n",
      "Epoch 48/100\n",
      "23/23 [==============================] - 10s 435ms/step - loss: 0.2621 - accuracy: 0.8931 - val_loss: 0.4320 - val_accuracy: 0.8000\n",
      "Epoch 49/100\n",
      "23/23 [==============================] - 10s 433ms/step - loss: 0.2668 - accuracy: 0.8806 - val_loss: 0.5304 - val_accuracy: 0.8333\n",
      "Epoch 50/100\n",
      "23/23 [==============================] - 11s 480ms/step - loss: 0.2699 - accuracy: 0.8833 - val_loss: 0.4312 - val_accuracy: 0.8000\n",
      "Epoch 51/100\n",
      "23/23 [==============================] - 11s 484ms/step - loss: 0.2477 - accuracy: 0.9000 - val_loss: 0.4649 - val_accuracy: 0.8333\n",
      "Epoch 52/100\n",
      "23/23 [==============================] - 11s 457ms/step - loss: 0.2445 - accuracy: 0.8986 - val_loss: 0.3573 - val_accuracy: 0.9333\n",
      "Epoch 53/100\n",
      "23/23 [==============================] - 10s 448ms/step - loss: 0.2384 - accuracy: 0.9083 - val_loss: 0.4311 - val_accuracy: 0.8333\n",
      "Epoch 54/100\n",
      "23/23 [==============================] - 10s 439ms/step - loss: 0.2097 - accuracy: 0.9097 - val_loss: 0.4968 - val_accuracy: 0.8333\n",
      "Epoch 55/100\n",
      "23/23 [==============================] - 10s 438ms/step - loss: 0.2256 - accuracy: 0.9083 - val_loss: 0.3626 - val_accuracy: 0.8667\n",
      "Epoch 56/100\n",
      "23/23 [==============================] - 10s 439ms/step - loss: 0.2255 - accuracy: 0.9236 - val_loss: 0.5026 - val_accuracy: 0.8000\n",
      "Epoch 57/100\n"
     ]
    },
    {
     "name": "stdout",
     "output_type": "stream",
     "text": [
      "23/23 [==============================] - 10s 441ms/step - loss: 0.2365 - accuracy: 0.9125 - val_loss: 0.4750 - val_accuracy: 0.8667\n",
      "Epoch 58/100\n",
      "23/23 [==============================] - 10s 443ms/step - loss: 0.2144 - accuracy: 0.9111 - val_loss: 0.4874 - val_accuracy: 0.8667\n",
      "Epoch 59/100\n",
      "23/23 [==============================] - 10s 437ms/step - loss: 0.2432 - accuracy: 0.9000 - val_loss: 0.3760 - val_accuracy: 0.8667\n",
      "Epoch 60/100\n",
      "23/23 [==============================] - 10s 429ms/step - loss: 0.2102 - accuracy: 0.9278 - val_loss: 0.4156 - val_accuracy: 0.8667\n",
      "Epoch 61/100\n",
      "23/23 [==============================] - 10s 440ms/step - loss: 0.1762 - accuracy: 0.9319 - val_loss: 0.4431 - val_accuracy: 0.9000\n",
      "Epoch 62/100\n",
      "23/23 [==============================] - 10s 436ms/step - loss: 0.1907 - accuracy: 0.9264 - val_loss: 0.4487 - val_accuracy: 0.8667\n"
     ]
    },
    {
     "data": {
      "text/plain": [
       "<keras.src.callbacks.History at 0x2a09248c410>"
      ]
     },
     "execution_count": 7,
     "metadata": {},
     "output_type": "execute_result"
    }
   ],
   "source": [
    "# aquí empieza\n",
    "from tensorflow.keras.preprocessing.image import ImageDataGenerator\n",
    "from tensorflow.keras.models import Sequential\n",
    "from tensorflow.keras.layers import Conv2D, MaxPooling2D, Dropout, Flatten, Dense\n",
    "from tensorflow.keras.optimizers import Adam\n",
    "from keras.callbacks import EarlyStopping\n",
    "\n",
    "# Especifica las rutas a tus carpetas de entrenamiento y prueba\n",
    "train_data_dir = 'wave2/training'\n",
    "test_data_dir = 'wave2/testing'\n",
    "\n",
    "# Especifica el tamaño de tus imágenes y el tamaño del lote (batch size)\n",
    "img_width, img_height = 100, 100\n",
    "batch_size = 32\n",
    "\n",
    "# Configura el generador de imágenes para entrenamiento\n",
    "train_datagen = ImageDataGenerator(\n",
    "    rescale=1.0/255,\n",
    "    shear_range=0.2,\n",
    "    zoom_range=0.2,\n",
    "    horizontal_flip=True\n",
    ")\n",
    "\n",
    "# Configura el generador de imágenes para prueba (sin aumentación)\n",
    "test_datagen = ImageDataGenerator(rescale=1.0/255)\n",
    "\n",
    "# Carga las imágenes de entrenamiento desde la carpeta\n",
    "train_generator = train_datagen.flow_from_directory(\n",
    "    train_data_dir,\n",
    "    target_size=(img_width, img_height),\n",
    "    batch_size=batch_size,\n",
    "    class_mode='binary'\n",
    ")\n",
    "\n",
    "# Carga las imágenes de prueba desde la carpeta\n",
    "test_generator = test_datagen.flow_from_directory(\n",
    "    test_data_dir,\n",
    "    target_size=(img_width, img_height),\n",
    "    batch_size=batch_size,\n",
    "    class_mode='binary'\n",
    ")\n",
    "\n",
    "# Define el modelo\n",
    "modeloCNN = Sequential([\n",
    "    Conv2D(128, (3, 3), activation='relu', input_shape=(img_width, img_height, 3)),\n",
    "    MaxPooling2D(2, 2),\n",
    "    \n",
    "    Conv2D(64, (3, 3), activation='relu', input_shape=(img_width, img_height, 3)),\n",
    "    MaxPooling2D(2, 2),\n",
    "    \n",
    "    Conv2D(32, (3, 3), activation='relu'),\n",
    "    MaxPooling2D(2, 2),\n",
    "    \n",
    "    Dropout(0.5),\n",
    "    Flatten(),\n",
    "    Dense(100, activation='relu'),\n",
    "    Dense(1, activation='sigmoid')\n",
    "])\n",
    "\n",
    "# Compila el modelo\n",
    "modeloCNN.compile(optimizer='adam', loss='binary_crossentropy', metrics=['accuracy'])\n",
    "\n",
    "# Entrena el modelo\n",
    "early_stop = EarlyStopping(monitor='val_loss', patience=10, restore_best_weights=True)\n",
    "\n",
    "modeloCNN.fit(train_generator, epochs=100, validation_data=test_generator, callbacks=[early_stop])\n"
   ]
  },
  {
   "cell_type": "code",
   "execution_count": 8,
   "id": "31913d95",
   "metadata": {},
   "outputs": [
    {
     "name": "stdout",
     "output_type": "stream",
     "text": [
      "1/1 [==============================] - 0s 179ms/step - loss: 0.3573 - accuracy: 0.9333\n",
      "Pérdida en el conjunto de prueba: 0.3573010563850403\n",
      "Precisión en el conjunto de prueba: 0.9333333373069763\n"
     ]
    }
   ],
   "source": [
    "# Evalúa el modelo con el conjunto de datos de prueba\n",
    "pérdida, precisión = modeloCNN.evaluate(test_generator)\n",
    "\n",
    "# Imprime las métricas\n",
    "print(\"Pérdida en el conjunto de prueba:\", pérdida)\n",
    "print(\"Precisión en el conjunto de prueba:\", precisión)"
   ]
  },
  {
   "cell_type": "code",
   "execution_count": 3,
   "id": "0b64069e",
   "metadata": {},
   "outputs": [
    {
     "name": "stdout",
     "output_type": "stream",
     "text": [
      "INFO:tensorflow:Assets written to: waves.pkl\\assets\n"
     ]
    },
    {
     "name": "stderr",
     "output_type": "stream",
     "text": [
      "INFO:tensorflow:Assets written to: waves.pkl\\assets\n"
     ]
    }
   ],
   "source": [
    "modeloCNN.save('waves.pkl')"
   ]
  },
  {
   "cell_type": "code",
   "execution_count": 9,
   "id": "1311721b",
   "metadata": {},
   "outputs": [],
   "source": [
    "import pickle\n",
    "\n",
    "# Supongamos que tienes un modelo llamado 'modelo'\n",
    "with open('modelo.pkl', 'wb') as file:\n",
    "    pickle.dump(modeloCNN, file)\n"
   ]
  },
  {
   "cell_type": "code",
   "execution_count": 10,
   "id": "52453b31",
   "metadata": {},
   "outputs": [],
   "source": [
    "from tensorflow.keras.models import save_model\n",
    "\n",
    "# Supongamos que tienes un modelo llamado 'modelo'\n",
    "modeloCNN.save('modeloCNN.h5')\n"
   ]
  },
  {
   "cell_type": "code",
   "execution_count": 30,
   "id": "3af668c4",
   "metadata": {},
   "outputs": [
    {
     "data": {
      "image/png": "[encoded data removed]",
      "text/plain": [
       "<Figure size 640x480 with 3 Axes>"
      ]
     },
     "metadata": {},
     "output_type": "display_data"
    }
   ],
   "source": [
    "import cv2\n",
    "import matplotlib.pyplot as plt\n",
    "\n",
    "# Ruta de la imagen original\n",
    "ruta_original = \"heal-wave.jpeg\"  # Añadir imagen nueva\n",
    "\n",
    "# Leer la imagen original\n",
    "imagen_original = cv2.imread(ruta_original)\n",
    "\n",
    "# Verificar que la imagen se haya cargado correctamente\n",
    "if imagen_original is not None:\n",
    "    # Aplicar aumento de contraste\n",
    "    alpha = 1.5  # Factor de aumento de contraste\n",
    "    beta = 0     # Desplazamiento\n",
    "    imagen_contrastada = cv2.convertScaleAbs(imagen_original, alpha=alpha, beta=beta)\n",
    "\n",
    "    # Convertir la imagen contrastada a escala de grises\n",
    "    imagen_gris = cv2.cvtColor(imagen_contrastada, cv2.COLOR_BGR2GRAY)\n",
    "\n",
    "    # Invertir colores en escala de grises\n",
    "    imagen_invertida = cv2.bitwise_not(imagen_gris)\n",
    "\n",
    "    # Nombre de la nueva imagen invertida\n",
    "    nombre_nueva_imagen = \"parkinson_negro_prueba.png\"\n",
    "\n",
    "    # Guardar la imagen invertida\n",
    "    cv2.imwrite(nombre_nueva_imagen, imagen_invertida)\n",
    "\n",
    "    # Mostrar la imagen original, contrastada e invertida\n",
    "    plt.subplot(1, 3, 1)\n",
    "    plt.imshow(cv2.cvtColor(imagen_original, cv2.COLOR_BGR2RGB))\n",
    "    plt.title(\"Imagen Original\")\n",
    "\n",
    "    plt.subplot(1, 3, 2)\n",
    "    plt.imshow(cv2.cvtColor(imagen_contrastada, cv2.COLOR_BGR2RGB))\n",
    "    plt.title(\"Imagen Contrastada\")\n",
    "\n",
    "    plt.subplot(1, 3, 3)\n",
    "    plt.imshow(cv2.cvtColor(imagen_invertida, cv2.COLOR_BGR2RGB), cmap='gray')\n",
    "    plt.title(\"Imagen Invertida\")\n",
    "\n",
    "    plt.show()\n",
    "else:\n",
    "    print(f\"Error: No se pudo cargar la imagen en: {ruta_original}\")\n"
   ]
  },
  {
   "cell_type": "code",
   "execution_count": 31,
   "id": "0836aa88",
   "metadata": {},
   "outputs": [
    {
     "name": "stdout",
     "output_type": "stream",
     "text": [
      "1/1 [==============================] - 0s 253ms/step\n",
      "[[0.8317765]]\n",
      "Predicción: parkinson\n"
     ]
    }
   ],
   "source": [
    "import numpy as np\n",
    "from keras.models import load_model\n",
    "from keras.preprocessing import image\n",
    "from keras.applications.inception_v3 import preprocess_input\n",
    "\n",
    "# Cargar el modelo previamente entrenado\n",
    "modelo_cargado = load_model('modeloCNN_wave_93.h5')\n",
    "\n",
    "# Ruta de la imagen que deseas predecir\n",
    "img_path = nombre_nueva_imagen  # Asegúrate de proporcionar la ruta correcta\n",
    "\n",
    "# Cargar la imagen y ajustar su tamaño\n",
    "img = image.load_img(img_path, target_size=(100, 100)) # mirar sa plantilla i ses fotos com estan exactament\n",
    "\n",
    "# Convertir la imagen a un array de numpy\n",
    "img_array = image.img_to_array(img)\n",
    "\n",
    "# Expandir las dimensiones para que coincidan con las expectativas del modelo\n",
    "img_array = np.expand_dims(img_array, axis=0)\n",
    "\n",
    "# Preprocesar la imagen\n",
    "img_array = preprocess_input(img_array)\n",
    "\n",
    "# Realizar la predicción\n",
    "prediccion = modelo_cargado.predict(img_array)\n",
    "\n",
    "print(prediccion)\n",
    "# Obtener la clase predicha\n",
    "clase_predicha = \"parkinson\" if prediccion[0][0] > 0.5 else \"healthy\"\n",
    "\n",
    "print(\"Predicción: \" + clase_predicha)\n"
   ]
  },
  {
   "cell_type": "code",
   "execution_count": null,
   "id": "53ec032f",
   "metadata": {},
   "outputs": [],
   "source": []
  },
  {
   "cell_type": "code",
   "execution_count": null,
   "id": "6018f176",
   "metadata": {},
   "outputs": [],
   "source": []
  },
  {
   "cell_type": "code",
   "execution_count": null,
   "id": "b774c2c9",
   "metadata": {},
   "outputs": [],
   "source": []
  },
  {
   "cell_type": "code",
   "execution_count": null,
   "id": "f4943348",
   "metadata": {},
   "outputs": [],
   "source": []
  },
  {
   "cell_type": "code",
   "execution_count": null,
   "id": "912c1d78",
   "metadata": {},
   "outputs": [],
   "source": []
  },
  {
   "cell_type": "code",
   "execution_count": null,
   "id": "fbce73d7",
   "metadata": {},
   "outputs": [],
   "source": []
  },
  {
   "cell_type": "code",
   "execution_count": 14,
   "id": "c5e2d9f5",
   "metadata": {},
   "outputs": [
    {
     "name": "stdout",
     "output_type": "stream",
     "text": [
      "WARNING:tensorflow:6 out of the last 6 calls to <function Model.make_predict_function.<locals>.predict_function at 0x000001C7E726FF60> triggered tf.function retracing. Tracing is expensive and the excessive number of tracings could be due to (1) creating @tf.function repeatedly in a loop, (2) passing tensors with different shapes, (3) passing Python objects instead of tensors. For (1), please define your @tf.function outside of the loop. For (2), @tf.function has reduce_retracing=True option that can avoid unnecessary retracing. For (3), please refer to https://www.tensorflow.org/guide/function#controlling_retracing and https://www.tensorflow.org/api_docs/python/tf/function for  more details.\n",
      "1/1 [==============================] - 0s 208ms/step\n",
      "[[0.1227693]]\n",
      "Predicción: healthy\n"
     ]
    }
   ],
   "source": [
    "import numpy as np\n",
    "from keras.models import load_model\n",
    "from keras.preprocessing import image\n",
    "from keras.applications.inception_v3 import preprocess_input\n",
    "\n",
    "# Cargar el modelo previamente entrenado\n",
    "modelo_cargado = load_model('modeloCNN_wave_93.h5')\n",
    "\n",
    "# Ruta de la imagen que deseas predecir\n",
    "img_path = nombre_nueva_imagen  # Asegúrate de proporcionar la ruta correcta\n",
    "\n",
    "# Cargar la imagen y ajustar su tamaño\n",
    "img = image.load_img(img_path, target_size=(100, 100))\n",
    "\n",
    "# Convertir la imagen a un array de numpy\n",
    "img_array = image.img_to_array(img)\n",
    "\n",
    "# Expandir las dimensiones para que coincidan con las expectativas del modelo\n",
    "img_array = np.expand_dims(img_array, axis=0)\n",
    "\n",
    "# Preprocesar la imagen\n",
    "img_array = preprocess_input(img_array)\n",
    "\n",
    "# Realizar la predicción\n",
    "prediccion = modelo_cargado.predict(img_array)\n",
    "\n",
    "print(prediccion)\n",
    "# Obtener la clase predicha\n",
    "clase_predicha = \"parkinson\" if prediccion[0][0] > 0.5 else \"healthy\"\n",
    "\n",
    "print(\"Predicción: \" + clase_predicha)\n"
   ]
  },
  {
   "cell_type": "code",
   "execution_count": null,
   "id": "50616fe2",
   "metadata": {},
   "outputs": [],
   "source": []
  },
  {
   "cell_type": "code",
   "execution_count": null,
   "id": "7c51a107",
   "metadata": {},
   "outputs": [],
   "source": []
  },
  {
   "cell_type": "code",
   "execution_count": null,
   "id": "c3ef0f38",
   "metadata": {},
   "outputs": [],
   "source": []
  }
 ],
 "metadata": {
  "kernelspec": {
   "display_name": "Python 3 (ipykernel)",
   "language": "python",
   "name": "python3"
  },
  "language_info": {
   "codemirror_mode": {
    "name": "ipython",
    "version": 3
   },
   "file_extension": ".py",
   "mimetype": "text/x-python",
   "name": "python",
   "nbconvert_exporter": "python",
   "pygments_lexer": "ipython3",
   "version": "3.11.5"
  }
 },
 "nbformat": 4,
 "nbformat_minor": 5
}
