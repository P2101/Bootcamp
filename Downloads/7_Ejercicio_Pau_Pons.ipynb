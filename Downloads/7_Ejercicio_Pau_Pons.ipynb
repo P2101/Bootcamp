{
 "cells": [
  {
   "cell_type": "code",
   "execution_count": 1,
   "id": "21a29f9e",
   "metadata": {},
   "outputs": [],
   "source": [
    "# EJERCICIO 1"
   ]
  },
  {
   "cell_type": "code",
   "execution_count": 35,
   "id": "366f5fb7",
   "metadata": {},
   "outputs": [
    {
     "name": "stdout",
     "output_type": "stream",
     "text": [
      "Pepe ha Suspendido con 3\n",
      "Ana ha sacado un 8\n"
     ]
    }
   ],
   "source": [
    "class Alumno:\n",
    "    def __init__(self, nombre, nota):\n",
    "        self.nombre = nombre\n",
    "        self.nota = nota\n",
    "        \n",
    "    def __str__(self):\n",
    "        return '{} ha sacado un {}'.format(self.nombre, self.nota)\n",
    "    \n",
    "    def calificacion(self):\n",
    "        if self.nota >= 5:\n",
    "            return '{} ha Aprobado con {}'.format(self.nombre, self.nota)\n",
    "        else:\n",
    "            return '{} ha Suspendido con {}'.format(self.nombre, self.nota) \n",
    "    \n",
    "a1 = Alumno('Pepe', 3)\n",
    "a2 = Alumno('Ana', 8)\n",
    "print(a1.calificacion())\n",
    "print(a2)"
   ]
  },
  {
   "cell_type": "code",
   "execution_count": 2,
   "id": "ea0d7f13",
   "metadata": {},
   "outputs": [],
   "source": [
    "# EJERCICIO 2"
   ]
  },
  {
   "cell_type": "code",
   "execution_count": 42,
   "id": "43ff9b89",
   "metadata": {},
   "outputs": [
    {
     "name": "stdout",
     "output_type": "stream",
     "text": [
      "Juan tiene 24 años\n",
      "Júlia es menor de edad\n"
     ]
    }
   ],
   "source": [
    "class Persona:\n",
    "    def __init__(self, nombre, edad):\n",
    "        self.nombre = nombre\n",
    "        self.edad = edad\n",
    "    def __str__(self):\n",
    "        return '{} tiene {} años'.format(self.nombre, self.edad)\n",
    "    def mayoria(self):\n",
    "        if self.edad >= 18:\n",
    "            return '{} es mayor de edad'.format(self.nombre)\n",
    "        else:\n",
    "            return '{} es menor de edad'.format(self.nombre)\n",
    "        \n",
    "p1 = Persona('Juan', 24)\n",
    "p2 = Persona('Júlia', 17)\n",
    "print(p1)\n",
    "print(p2.mayoria())"
   ]
  },
  {
   "cell_type": "code",
   "execution_count": 3,
   "id": "1fd1983f",
   "metadata": {},
   "outputs": [],
   "source": [
    "# EJERCICIO 3"
   ]
  },
  {
   "cell_type": "code",
   "execution_count": 15,
   "id": "43e736b5",
   "metadata": {},
   "outputs": [
    {
     "name": "stdout",
     "output_type": "stream",
     "text": [
      "Introduce el lado del triángulo: 4\n",
      "Introduce el lado del triángulo: 5\n",
      "Introduce el lado del triángulo: 5\n",
      "Tenemos un triángulo escaleno\n"
     ]
    }
   ],
   "source": [
    "class Triangle:\n",
    "    def __init__(self):\n",
    "        self.lado1 = int(input('Introduce el lado del triángulo: '))\n",
    "        self.lado2 = int(input('Introduce el lado del triángulo: '))\n",
    "        self.lado3 = int(input('Introduce el lado del triángulo: '))\n",
    "    def printing(self):\n",
    "        print(f'El primer lado mide {self.lado1} cm')\n",
    "        print(f'El primer lado mide {self.lado2} cm')\n",
    "        print(f'El primer lado mide {self.lado3} cm')\n",
    "    def typed(self):\n",
    "        if self.lado1 == self.lado2 == self.lado3:\n",
    "            print('Tenemos un triángulo equilátero')\n",
    "        elif self.lado1 == self.lado2 or self.lado1 == self.lado3 or self.lado2 == self.lado3:\n",
    "            print('Tenemos un triángulo isósceles')\n",
    "        else:\n",
    "            print('Tenemos un triángulo escaleno')\n",
    "            \n",
    "triangle = Triangle()\n",
    "triangle.typed()"
   ]
  },
  {
   "cell_type": "code",
   "execution_count": 4,
   "id": "3bc08aa8",
   "metadata": {},
   "outputs": [],
   "source": [
    "# EJERCICIO 4"
   ]
  },
  {
   "cell_type": "code",
   "execution_count": null,
   "id": "c569d88b",
   "metadata": {},
   "outputs": [],
   "source": [
    "class Calculator:\n",
    "    def __init__(self):\n",
    "        self.num1 = int(input('Introduce el primer número: '))\n",
    "        self.num2 = int(input('Introduce el segundo número: '))\n",
    "        \n",
    "    def suma(self):\n",
    "        result = self.num1 + self.num2\n",
    "        return print(f'La suma de {self.num1} y {self.num2} es {result:.2f}')\n",
    "    def resta(self):\n",
    "        result = self.num1 - self.num2\n",
    "        return print(f'La resta de {self.num1} y {self.num2} es {result:.2f}')\n",
    "    def multiplicacion(self):\n",
    "        result = self.num1 * self.num2\n",
    "        return print(f'La multiplicación de {self.num1} y {self.num2} es {result:.2f}')\n",
    "    def division(self):\n",
    "        result = self.num1 / self.num2\n",
    "        return print(f'La división de {self.num1} y {self.num2} es {result:.2f}')\n",
    "    \n",
    "print()\n",
    "option = Calculator()\n",
    "option.suma()\n",
    "option.resta()\n",
    "option.multiplicacion()\n",
    "option.division()"
   ]
  },
  {
   "cell_type": "code",
   "execution_count": 5,
   "id": "fccbdabf",
   "metadata": {},
   "outputs": [],
   "source": [
    "# EJERCICIO 5"
   ]
  },
  {
   "cell_type": "code",
   "execution_count": 52,
   "id": "53c778d0",
   "metadata": {},
   "outputs": [
    {
     "name": "stdout",
     "output_type": "stream",
     "text": [
      "1- Añadir Contacto, 2- Lista Contactos, 3- Buscar Contacto, 4- Editar Contacto, 0- Salir\n",
      "Introduce una opción: 1\n",
      "Introduce el nombre: sfs\n",
      "Introduce el número de teléfono: 2342\n",
      "Introduce el e-mail: fsdfsfs\n",
      "Introduce una opción: 4\n",
      "Introduce el nombre a editar: sfs\n",
      "Introduce nombre nuevo, o vacío si quiere permanecer el actual: pepe\n",
      "Introduce teléfono nuevo, o vacío si quiere permanecer el actual: 2342442\n",
      "Introduce mail nuevo, o vacío si quiere permanecer el actual: \n",
      "Introduce una opción: 2\n",
      "pepe\n",
      "Introduce una opción: 3\n",
      "Introduce el nombre a buscar: pepe\n",
      "pepe con teléfono 2342442 tiene el e-mail fsdfsfs\n",
      "Introduce una opción: 0\n"
     ]
    }
   ],
   "source": [
    "class Agend:\n",
    "    print('1- Añadir Contacto, 2- Lista Contactos, 3- Buscar Contacto, 4- Editar Contacto, 0- Salir')\n",
    "    def __init__(self):\n",
    "        self.contacts=[]\n",
    "\n",
    "    def menu(self):\n",
    "        while (option := int(input('Introduce una opción: '))) != 0:\n",
    "            match option:\n",
    "                case 1:\n",
    "                    self.añadir()\n",
    "                case 2:\n",
    "                    self.lista()\n",
    "                case 3:\n",
    "                    self.buscar()\n",
    "                case 4:\n",
    "                    self.editar()\n",
    "                case 0:\n",
    "                    print('Cerrando Agenda')\n",
    " \n",
    "    def añadir(self):\n",
    "        name = input('Introduce el nombre: ')\n",
    "        phone = int(input('Introduce el número de teléfono: '))\n",
    "        mail = input('Introduce el e-mail: ')\n",
    "        self.contacts.append({'nombre': name, 'telefono': phone, 'mail': mail})\n",
    "\n",
    "    def lista(self):\n",
    "        if len(self.contacts) == 0:\n",
    "            print('No hay ningún contacto')\n",
    "        else:\n",
    "            for i in range(len(self.contacts)):\n",
    "                print(self.contacts[i]['nombre'])\n",
    "        \n",
    "    def buscar(self):\n",
    "        name = input('Introduce el nombre a buscar: ')\n",
    "        for i in range(len(self.contacts)):\n",
    "            if name == self.contacts[i]['nombre']:\n",
    "                print(self.contacts[i]['nombre'], 'con teléfono', self.contacts[i]['telefono'], 'tiene el e-mail', self.contacts[i]['mail'])\n",
    "    \n",
    "    def editar(self):\n",
    "        name = input('Introduce el nombre a editar: ')\n",
    "        for i in range(len(self.contacts)):\n",
    "            if name == self.contacts[i]['nombre']:\n",
    "                new_name = input('Introduce nombre nuevo, o vacío si quiere permanecer el actual: ')\n",
    "                if new_name != '':\n",
    "                    self.contacts[i]['nombre'] = new_name\n",
    "                new_phone = int(input('Introduce teléfono nuevo, o vacío si quiere permanecer el actual: '))\n",
    "                if new_phone != '':\n",
    "                    self.contacts[i]['telefono'] = new_phone\n",
    "                new_mail = input('Introduce mail nuevo, o vacío si quiere permanecer el actual: ')\n",
    "                if new_mail != '':\n",
    "                    self.contacts[i]['mail'] = new_mail\n",
    "                \n",
    "agenda=Agend()\n",
    "agenda.menu()"
   ]
  },
  {
   "cell_type": "code",
   "execution_count": 49,
   "id": "fc14e028",
   "metadata": {},
   "outputs": [],
   "source": [
    "# EJERCICIO 6"
   ]
  },
  {
   "cell_type": "code",
   "execution_count": 16,
   "id": "390a9e46",
   "metadata": {},
   "outputs": [
    {
     "name": "stdout",
     "output_type": "stream",
     "text": [
      "El total de dinero del banco es 2150 euros\n"
     ]
    }
   ],
   "source": [
    "class Client:\n",
    "    def __init__(self, name, quantity = 0):\n",
    "        self.name = name\n",
    "        self.quantity = quantity\n",
    "    def deposit(self, money):\n",
    "        self.quantity += money\n",
    "        return self.quantity\n",
    "    def extract(self, money):\n",
    "        self.quantity -= money\n",
    "        return self.quantity\n",
    "    def show(self):\n",
    "        return self.quantity\n",
    "    \n",
    "class Bank:\n",
    "    def __init__(self):\n",
    "        self.c1 = Client('Juan')\n",
    "        self.c2 = Client('María')\n",
    "        self.c3 = Client('Ana', 500)\n",
    "    def operate(self):\n",
    "        self.c1.deposit(1000)\n",
    "        self.c2.deposit(500)\n",
    "        self.c3.deposit(150)\n",
    "    def total_deposit(self):\n",
    "        total=self.c1.show()+self.c2.show()+self.c3.show()\n",
    "        print(f\"El total de dinero del banco es {total} euros\")\n",
    "        \n",
    "b1=Bank()\n",
    "b1.operate()\n",
    "b1.total_deposit()"
   ]
  }
 ],
 "metadata": {
  "kernelspec": {
   "display_name": "Python 3 (ipykernel)",
   "language": "python",
   "name": "python3"
  },
  "language_info": {
   "codemirror_mode": {
    "name": "ipython",
    "version": 3
   },
   "file_extension": ".py",
   "mimetype": "text/x-python",
   "name": "python",
   "nbconvert_exporter": "python",
   "pygments_lexer": "ipython3",
   "version": "3.11.4"
  }
 },
 "nbformat": 4,
 "nbformat_minor": 5
}
