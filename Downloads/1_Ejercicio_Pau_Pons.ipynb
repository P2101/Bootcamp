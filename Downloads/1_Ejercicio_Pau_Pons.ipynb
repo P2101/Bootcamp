{
 "cells": [
  {
   "cell_type": "code",
   "execution_count": null,
   "id": "a9399e02",
   "metadata": {},
   "outputs": [],
   "source": [
    "# EJERCICIO 1"
   ]
  },
  {
   "cell_type": "code",
   "execution_count": 2,
   "id": "d4ee91c9",
   "metadata": {},
   "outputs": [
    {
     "data": {
      "text/plain": [
       "'¡Hola Mundo!'"
      ]
     },
     "execution_count": 2,
     "metadata": {},
     "output_type": "execute_result"
    }
   ],
   "source": [
    "'¡Hola Mundo!'"
   ]
  },
  {
   "cell_type": "code",
   "execution_count": 3,
   "id": "9d8ac93a",
   "metadata": {},
   "outputs": [],
   "source": [
    "# EJERCICIO 2"
   ]
  },
  {
   "cell_type": "code",
   "execution_count": 13,
   "id": "459450dd",
   "metadata": {},
   "outputs": [
    {
     "data": {
      "text/plain": [
       "'¡Hola Mundo!'"
      ]
     },
     "execution_count": 13,
     "metadata": {},
     "output_type": "execute_result"
    }
   ],
   "source": [
    "saludo = '¡Hola Mundo!'\n",
    "saludo"
   ]
  },
  {
   "cell_type": "code",
   "execution_count": 4,
   "id": "0af143cf",
   "metadata": {},
   "outputs": [],
   "source": [
    "# EJERCICIO 3"
   ]
  },
  {
   "cell_type": "code",
   "execution_count": 49,
   "id": "206c14f4",
   "metadata": {},
   "outputs": [
    {
     "name": "stdout",
     "output_type": "stream",
     "text": [
      "Introduce tu nombre: Pau\n",
      "¡Hola Pau!\n"
     ]
    }
   ],
   "source": [
    "nombre = input('Introduce tu nombre: ')\n",
    "print(f\"¡Hola {nombre}!\")"
   ]
  },
  {
   "cell_type": "code",
   "execution_count": 5,
   "id": "98fe8e09",
   "metadata": {},
   "outputs": [],
   "source": [
    "# EJERCICIO 4"
   ]
  },
  {
   "cell_type": "code",
   "execution_count": 63,
   "id": "b7be085b",
   "metadata": {},
   "outputs": [
    {
     "data": {
      "text/plain": [
       "64.0"
      ]
     },
     "execution_count": 63,
     "metadata": {},
     "output_type": "execute_result"
    }
   ],
   "source": [
    "(3+2 / 2*5)**2"
   ]
  },
  {
   "cell_type": "code",
   "execution_count": 6,
   "id": "68a08d83",
   "metadata": {},
   "outputs": [],
   "source": [
    "# EJERCICIO 5"
   ]
  },
  {
   "cell_type": "code",
   "execution_count": 22,
   "id": "f19aec06",
   "metadata": {},
   "outputs": [
    {
     "name": "stdout",
     "output_type": "stream",
     "text": [
      "Cuántas horas has trabajado?5\n",
      "Cuál es el coste por hora?5\n",
      "el total de la paga es  25\n"
     ]
    }
   ],
   "source": [
    "horas = int(input('Cuántas horas has trabajado?'))\n",
    "precio = int(input('Cuál es el coste por hora?'))\n",
    "total = horas * precio\n",
    "print(f\"La paga total es \", total)"
   ]
  },
  {
   "cell_type": "code",
   "execution_count": 7,
   "id": "c2cd8b07",
   "metadata": {},
   "outputs": [],
   "source": [
    "# EJERCICIO 6"
   ]
  },
  {
   "cell_type": "code",
   "execution_count": 1,
   "id": "149d76ca",
   "metadata": {},
   "outputs": [
    {
     "name": "stdout",
     "output_type": "stream",
     "text": [
      "Introduce un número: 100\n"
     ]
    },
    {
     "data": {
      "text/plain": [
       "5050.0"
      ]
     },
     "execution_count": 1,
     "metadata": {},
     "output_type": "execute_result"
    }
   ],
   "source": [
    "num = int(input('Introduce un número: '))\n",
    "total = num * (num + 1)/2\n",
    "total"
   ]
  },
  {
   "cell_type": "code",
   "execution_count": 8,
   "id": "77333299",
   "metadata": {},
   "outputs": [],
   "source": [
    "# EJERCICIO 7"
   ]
  },
  {
   "cell_type": "code",
   "execution_count": 29,
   "id": "91f8f419",
   "metadata": {},
   "outputs": [
    {
     "name": "stdout",
     "output_type": "stream",
     "text": [
      "Indique su peso: 83\n",
      "Indique su altura(separado por un punto: ej. 1.8): 1.8\n",
      "Tu índice de masa corporal es 25.61728395061728\n"
     ]
    }
   ],
   "source": [
    "peso = int(input('Indique su peso: '))\n",
    "altura = float(input('Indique su altura(separado por un punto: ej. 1.8): '))\n",
    "imc = peso/(altura**2)\n",
    "print(f\"Tu índice de masa corporal es {round(imc, 2)}\")"
   ]
  },
  {
   "cell_type": "code",
   "execution_count": 9,
   "id": "4b460dd1",
   "metadata": {},
   "outputs": [],
   "source": [
    "# EJERCICIO 8"
   ]
  },
  {
   "cell_type": "code",
   "execution_count": 31,
   "id": "93783a94",
   "metadata": {},
   "outputs": [
    {
     "name": "stdout",
     "output_type": "stream",
     "text": [
      "Introduce el dividendo:7\n",
      "Introduce el divisor:3\n",
      "El cociente es 2 y el resto es 1\n"
     ]
    }
   ],
   "source": [
    "dividendo = int(input('Introduce el dividendo:'))\n",
    "divisor = int(input('Introduce el divisor:'))\n",
    "cociente = dividendo // divisor\n",
    "resto = dividendo % divisor\n",
    "print(f\"El cociente es {cociente} y el resto es {resto}\")"
   ]
  },
  {
   "cell_type": "code",
   "execution_count": 10,
   "id": "500e22c1",
   "metadata": {},
   "outputs": [],
   "source": [
    "# EJERCICIO 9"
   ]
  },
  {
   "cell_type": "code",
   "execution_count": 56,
   "id": "02f60083",
   "metadata": {},
   "outputs": [
    {
     "name": "stdout",
     "output_type": "stream",
     "text": [
      "Introduce cantidad a invertir: 1000\n",
      "Introduce tipo de interes: 5\n",
      "Introduce cantidad de años: 5\n",
      "El total es 1276.28€\n"
     ]
    }
   ],
   "source": [
    "cantidad = float(input('Introduce cantidad a invertir: '))\n",
    "interes = float(input('Introduce tipo de interes: '))\n",
    "años = int(input('Introduce cantidad de años: '))\n",
    "\n",
    "for i in range(años):\n",
    "    beneficio = interes * cantidad/100\n",
    "    cantidad = cantidad + beneficio\n",
    "print(f\"El total es {round(cantidad, 2)}€\")"
   ]
  },
  {
   "cell_type": "code",
   "execution_count": 11,
   "id": "f2438b5e",
   "metadata": {},
   "outputs": [],
   "source": [
    "# EJERCICIO 10"
   ]
  },
  {
   "cell_type": "code",
   "execution_count": null,
   "id": "88089db1",
   "metadata": {},
   "outputs": [],
   "source": [
    "clowns = int(input('Cantidad de payasos: '))\n",
    "dolls = int(input('Cantidad de muñecas: '))\n",
    "total = clowns * 112 + dolls * 75\n",
    "print(f\"El total es {total} g\")"
   ]
  },
  {
   "cell_type": "code",
   "execution_count": 12,
   "id": "b7aab3e6",
   "metadata": {},
   "outputs": [],
   "source": [
    "# EJERCICIO 11"
   ]
  },
  {
   "cell_type": "code",
   "execution_count": null,
   "id": "a079b9ae",
   "metadata": {},
   "outputs": [],
   "source": [
    "quantity = float(input('Introduce la cantidad que tienes: '))\n",
    "interes = 0.04\n",
    "\n",
    "for i in range(3):\n",
    "    benefit = quantity * interes\n",
    "    quantity = quantity + benefit\n",
    "    print(f\"La cantidad total el año {i + 1} es {round(quantity,2)}€\")"
   ]
  },
  {
   "cell_type": "code",
   "execution_count": 42,
   "id": "7bea0ac9",
   "metadata": {},
   "outputs": [],
   "source": [
    "# EJERCICIO 12"
   ]
  },
  {
   "cell_type": "code",
   "execution_count": 68,
   "id": "88b42bb7",
   "metadata": {},
   "outputs": [
    {
     "name": "stdout",
     "output_type": "stream",
     "text": [
      "El descuento es de 2.09\n",
      "el precio de la barra de ayer es de 1.4€\n",
      "Total barras pasadas: 5\n",
      "El total de pérdidas es de 10.47\n"
     ]
    }
   ],
   "source": [
    "barra = 3.49\n",
    "barra_pasada = barra * 0.4\n",
    "descuento = barra * 0.6\n",
    "print(f\"El descuento es de {round(descuento, 2)}\")\n",
    "print(f\"El precio de la barra de ayer es de {round(barra_pasada, 2)}€\")\n",
    "total_barra_pasada = int(input('Total barras pasadas: '))\n",
    "coste_final = barra * total_barra_pasada - barra_pasada * total_barra_pasada\n",
    "print(f\"El total de pérdidas es de {round(coste_final, 2)}€\")"
   ]
  }
 ],
 "metadata": {
  "kernelspec": {
   "display_name": "Python 3 (ipykernel)",
   "language": "python",
   "name": "python3"
  },
  "language_info": {
   "codemirror_mode": {
    "name": "ipython",
    "version": 3
   },
   "file_extension": ".py",
   "mimetype": "text/x-python",
   "name": "python",
   "nbconvert_exporter": "python",
   "pygments_lexer": "ipython3",
   "version": "3.11.4"
  }
 },
 "nbformat": 4,
 "nbformat_minor": 5
}
